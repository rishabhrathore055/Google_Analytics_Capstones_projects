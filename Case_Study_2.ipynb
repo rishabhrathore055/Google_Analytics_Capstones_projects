{
 "cells": [
  {
   "cell_type": "markdown",
   "id": "dcbb5ce9",
   "metadata": {},
   "source": [
    "# Case Study-2\n",
    "####  How Can a Wellness Technology Company Play It Smart?"
   ]
  },
  {
   "cell_type": "markdown",
   "id": "4494b7da",
   "metadata": {},
   "source": [
    "#### Introduction:\n",
    "Welcome to the Bellabeat data analysis case study! In this case study, you will perform many real-world tasks of a junior data\n",
    "analyst. You will imagine you are working for Bellabeat, a high-tech manufacturer of health-focused products for women, and\n",
    "meet different characters and team members.\n",
    "\n",
    "#### Google Data Analytics Capstone Project "
   ]
  },
  {
   "cell_type": "markdown",
   "id": "2e57bf62",
   "metadata": {},
   "source": [
    "## Ask\n",
    "##### These questions will guide your analysis:\n",
    "1. What are some trends in smart device usage?\n",
    "2. How could these trends apply to Bellabeat customers?\n",
    "3. How could these trends help influence Bellabeat marketing strategy?\n",
    "\n",
    "##### Background context on the case study:\n",
    "\n",
    "You are a junior data analyst working on the marketing analyst team at Bellabeat, a high-tech manufacturer of health-focused\n",
    "products for women. Bellabeat is a successful small company, but they have the potential to become a larger player in the\n",
    "global smart device market. Urška Sršen, cofounder and Chief Creative Officer of Bellabeat, believes that analyzing smart\n",
    "device fitness data could help unlock new growth opportunities for the company. You have been asked to focus on one of\n",
    "Bellabeat’s products and analyze smart device data to gain insight into how consumers are using their smart devices. The\n",
    "insights you discover will then help guide marketing strategy for the company. You will present your analysis to the Bellabeat\n",
    "executive team along with your high-level recommendations for Bellabeat’s marketing strategy\n",
    "\n",
    "##### Characters and products\n",
    "###### Characters\n",
    "1. Urška Sršen: Bellabeat’s cofounder and Chief Creative Officer\n",
    "2. Sando Mur: Mathematician and Bellabeat’s cofounder; key member of the Bellabeat executive team\n",
    "3. Bellabeat marketing analytics team: A team of data analysts responsible for collecting, analyzing, and\n",
    "reporting data that helps guide Bellabeat’s marketing strategy. You joined this team six months ago and have\n",
    "been busy learning about Bellabeat’’s mission and business goals — as well as how you, as a junior data analyst,\n",
    "can help Bellabeat achieve them.\n",
    "\n",
    "###### Products\n",
    "\n",
    "1. Bellabeat app: The Bellabeat app provides users with health data related to their activity, sleep, stress,\n",
    "menstrual cycle, and mindfulness habits. This data can help users better understand their current habits and\n",
    "make healthy decisions. The Bellabeat app connects to their line of smart wellness products.\n",
    "2. Leaf: Bellabeat’s classic wellness tracker can be worn as a bracelet, necklace, or clip. The Leaf tracker connects\n",
    "to the Bellabeat app to track activity, sleep, and stress.\n",
    "3. Time: This wellness watch combines the timeless look of a classic timepiece with smart technology to track user\n",
    "activity, sleep, and stress. The Time watch connects to the Bellabeat app to provide you with insights into your\n",
    "daily wellness.\n",
    "4. Spring: This is a water bottle that tracks daily water intake using smart technology to ensure that you are\n",
    "appropriately hydrated throughout the day. The Spring bottle connects to the Bellabeat app to track your\n",
    "hydration levels.\n",
    "5. Bellabeat membership: Bellabeat also offers a subscription-based membership program for users.\n",
    "Membership gives users 24/7 access to fully personalized guidance on nutrition, activity, sleep, health and\n",
    "beauty, and mindfulness based on their lifestyle and goals.\n"
   ]
  },
  {
   "cell_type": "markdown",
   "id": "ed5d161a",
   "metadata": {},
   "source": [
    "#### Guiding questions\n",
    "1. What is the problem you are trying to solve?\n",
    "2. How can your insights drive business decisions?"
   ]
  },
  {
   "cell_type": "code",
   "execution_count": null,
   "id": "96671586",
   "metadata": {},
   "outputs": [],
   "source": []
  }
 ],
 "metadata": {
  "kernelspec": {
   "display_name": "R",
   "language": "R",
   "name": "ir"
  },
  "language_info": {
   "codemirror_mode": "r",
   "file_extension": ".r",
   "mimetype": "text/x-r-source",
   "name": "R",
   "pygments_lexer": "r",
   "version": "4.2.2"
  }
 },
 "nbformat": 4,
 "nbformat_minor": 5
}
