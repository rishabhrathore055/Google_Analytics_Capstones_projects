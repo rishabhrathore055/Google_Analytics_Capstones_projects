{
 "cells": [
  {
   "cell_type": "markdown",
   "id": "8ea0d6af",
   "metadata": {},
   "source": [
    "# Case Study-1: How Does A Bike-Share Navigate Speedy Success?"
   ]
  },
  {
   "cell_type": "markdown",
   "id": "4dcf5409",
   "metadata": {},
   "source": [
    "## Introduction:\n",
    "#### Google Data Analytics Capstone project - Case Study 1.\n",
    "This case study focuses on Cyclistic, a bike-share company in Chicago."
   ]
  },
  {
   "cell_type": "markdown",
   "id": "4d7a3eb8",
   "metadata": {},
   "source": [
    "### Ask\n",
    "\n",
    "##### Background context on the case study:\n",
    "\n",
    "You are a junior data analyst working in the marketing analyst team at Cyclistic, a bike-share company in Chicago. The director of marketing believes the company’s future success depends on maximizing the number of annual memberships. Therefore, your team wants to understand how casual riders and annual members use Cyclistic bikes differently. From these insights, your team will design a new marketing strategy to convert casual riders into annual members. But first, Cyclistic executives must approve your recommendations, so they must be backed up with compelling data insights and professional data visualizations.\n",
    "##### Characters and teams:\n",
    "\n",
    "● Cyclistic: A bike-share program that features more than 5,800 bicycles and 600 docking stations. Cyclistic sets itself apart by also offering reclining bikes, hand tricycles, and cargo bikes, making bike-share more inclusive to people with disabilities and riders who can’t use a standard two-wheeled bike. The majority of riders opt for traditional bikes; about 8% of riders use the assistive options. Cyclistic users are more likely to ride for leisure, but about 30% use them to commute to work each day.\n",
    "\n",
    "● Lily Moreno: The director of marketing and your manager. Moreno is responsible for the development of campaignand initiatives to promote the bike-share program. These may include email, social media, and other channels.\n",
    "\n",
    "● Cyclistic marketing analytics team: A team of data analysts who are responsible for collecting, analyzing, and\n",
    "reporting data that helps guide Cyclistic marketing strategy. You joined this team six months ago and have been busy\n",
    "learning about Cyclistic’s mission and business goals — as well as how you, as a junior data analyst, can help Cyclistic\n",
    "achieve them.\n",
    "\n",
    "● Cyclistic executive team: The notoriously detail-oriented executive team will decide whether to approve the\n",
    "recommended marketing program."
   ]
  },
  {
   "cell_type": "markdown",
   "id": "32285191",
   "metadata": {},
   "source": [
    "#### Guiding questions\n",
    "1. What is the problem you are trying to solve?\n",
    "Our primary goal is to analyse the profiles of annual members and casual riders and use that information to develop marketing strategies to help casual riders become annual members. \n",
    "2. How can your insights drive business decisions?\n",
    "This information can help the marketing team increase the number of annual members.\n",
    "\n",
    "Key tasks\n",
    "1. Identify the business task - Completed\n",
    "2. Consider key stakeholders - Completed\n",
    "\n",
    "##### Deliverable\n",
    "• A clear statement of the business task\n",
    "Find the difference between annual members and casual riders, and identify the marketing strategy to use to increase annual members."
   ]
  },
  {
   "cell_type": "markdown",
   "id": "1cebcab5",
   "metadata": {},
   "source": [
    "### Prepare\n",
    "\n",
    "The Cyclistic’s historical trip data is given [here](https://divvy-tripdata.s3.amazonaws.com/index.html) analyze and identify the trends. Download the previous 12 months of Cyclistic trip data\n",
    "\n",
    "#### Guiding questions\n",
    "\n",
    "1. Where is your data located?\n",
    "The data is stored in my local machine as a dataset named \"casestudy\".\n",
    "\n",
    "2. How is the data organized?\n",
    "The datasets contain trip details from January to December 2021, and I later combined all of the csv files into one cvs file. \n",
    "\n",
    "3. Are there issues with bias or credibility in this data? Does your data ROCCC?\n",
    "The data is collected from a first-party source that is the company's own data storage, so there is a low chance of bias, but because it is the company's own data, the credibility is very high. The data also does ROCCC as it is reliable, original, comprehensive, current, and cited.\n",
    "\n",
    "4. How are you addressing licensing, privacy, security, and accessibility?\n",
    "The data is open source, anyone can access it, and the company provides it, but it is also covered by the license. and the data does not include any personal details of the riders to protect their privacy.\n",
    "\n",
    "5. How did you verify the data’s integrity?\n",
    "In the analysis of the data, it was found that the data types and the columns (amount and names) were all consistent.\n",
    "\n",
    "6. How does it help you answer your question?\n",
    "after thoroughly reviewing data from annual members and casual riders to determine if there are any characteristics regarding the rides, bike usage, and needs\n",
    "\n",
    "7. Are there any problems with the data?\n",
    "More information that can be present regarding the units of measure, stations, and riders would add to the data’s value.\n",
    "\n",
    "##### \n",
    "Key tasks\n",
    "1. Download data and store it appropriately. - Completed\n",
    "2. Identify how it’s organized. - Completed\n",
    "3. Sort and filter the data. - Completed\n",
    "4. Determine the credibility of the data. - Completed\n",
    "\n",
    "##### Deliverable\n",
    "\n",
    "• A description of all data sources used\n",
    "The data source consists of 10 CSV files. Each month starting with April is an individual file. The period starts in January 2021 and runs until December 2021."
   ]
  },
  {
   "cell_type": "markdown",
   "id": "76a9e90b",
   "metadata": {},
   "source": [
    "## Process\n",
    "\n",
    "##### Guiding questions\n",
    "1. What tools are you choosing and why?\n",
    "2. Have you ensured your data’s integrity?\n",
    "3. What steps have you taken to ensure that your data is clean?\n",
    "4. How can you verify that your data is clean and ready to analyze?\n",
    "5. Have you documented your cleaning process so you can review and share those results?\n",
    "\n",
    "##### Key tasks\n",
    "1. Check the data for errors.\n",
    "2. Choose your tools.\n",
    "3. Transform the data so you can work with it effectively.\n",
    "4. Document the cleaning process.\n",
    "\n",
    "*Deliverable*\n",
    "\n",
    "Documentation of any cleaning or manipulation of data"
   ]
  },
  {
   "cell_type": "code",
   "execution_count": 1,
   "id": "a32e6204",
   "metadata": {},
   "outputs": [
    {
     "name": "stderr",
     "output_type": "stream",
     "text": [
      "── \u001b[1mAttaching packages\u001b[22m ─────────────────────────────────────────────────────────────────────────────── tidyverse 1.3.2 ──\n",
      "\u001b[32m✔\u001b[39m \u001b[34mggplot2\u001b[39m 3.4.0      \u001b[32m✔\u001b[39m \u001b[34mpurrr  \u001b[39m 0.3.5 \n",
      "\u001b[32m✔\u001b[39m \u001b[34mtibble \u001b[39m 3.1.8      \u001b[32m✔\u001b[39m \u001b[34mdplyr  \u001b[39m 1.0.10\n",
      "\u001b[32m✔\u001b[39m \u001b[34mtidyr  \u001b[39m 1.2.1      \u001b[32m✔\u001b[39m \u001b[34mstringr\u001b[39m 1.4.1 \n",
      "\u001b[32m✔\u001b[39m \u001b[34mreadr  \u001b[39m 2.1.3      \u001b[32m✔\u001b[39m \u001b[34mforcats\u001b[39m 0.5.2 \n",
      "── \u001b[1mConflicts\u001b[22m ────────────────────────────────────────────────────────────────────────────────── tidyverse_conflicts() ──\n",
      "\u001b[31m✖\u001b[39m \u001b[34mdplyr\u001b[39m::\u001b[32mfilter()\u001b[39m masks \u001b[34mstats\u001b[39m::filter()\n",
      "\u001b[31m✖\u001b[39m \u001b[34mdplyr\u001b[39m::\u001b[32mlag()\u001b[39m    masks \u001b[34mstats\u001b[39m::lag()\n",
      "\n",
      "Attaching package: 'janitor'\n",
      "\n",
      "\n",
      "The following objects are masked from 'package:stats':\n",
      "\n",
      "    chisq.test, fisher.test\n",
      "\n",
      "\n",
      "Loading required package: timechange\n",
      "\n",
      "\n",
      "Attaching package: 'lubridate'\n",
      "\n",
      "\n",
      "The following objects are masked from 'package:base':\n",
      "\n",
      "    date, intersect, setdiff, union\n",
      "\n",
      "\n"
     ]
    }
   ],
   "source": [
    "library(tidyverse)\n",
    "library(janitor)\n",
    "library(lubridate)\n",
    "library(ggplot2)"
   ]
  },
  {
   "cell_type": "code",
   "execution_count": 2,
   "id": "89552e50",
   "metadata": {},
   "outputs": [
    {
     "name": "stderr",
     "output_type": "stream",
     "text": [
      "Warning message:\n",
      "\"\u001b[1m\u001b[22mOne or more parsing issues, call `problems()` on your data frame for details, e.g.:\n",
      "  dat <- vroom(...)\n",
      "  problems(dat)\"\n",
      "\u001b[1mRows: \u001b[22m\u001b[34m5595074\u001b[39m \u001b[1mColumns: \u001b[22m\u001b[34m13\u001b[39m\n",
      "\u001b[36m──\u001b[39m \u001b[1mColumn specification\u001b[22m \u001b[36m────────────────────────────────────────────────────────────────────────────────────────────────\u001b[39m\n",
      "\u001b[1mDelimiter:\u001b[22m \",\"\n",
      "\u001b[31mchr\u001b[39m  (7): ride_id, rideable_type, start_station_name, start_station_id, end_...\n",
      "\u001b[32mdbl\u001b[39m  (4): start_lat, start_lng, end_lat, end_lng\n",
      "\u001b[34mdttm\u001b[39m (2): started_at, ended_at\n",
      "\n",
      "\u001b[36mℹ\u001b[39m Use `spec()` to retrieve the full column specification for this data.\n",
      "\u001b[36mℹ\u001b[39m Specify the column types or set `show_col_types = FALSE` to quiet this message.\n"
     ]
    }
   ],
   "source": [
    "df <- read_csv('caseStudy.csv')"
   ]
  },
  {
   "cell_type": "code",
   "execution_count": 8,
   "id": "8fc5d830",
   "metadata": {},
   "outputs": [
    {
     "data": {
      "text/html": [
       "<style>\n",
       ".list-inline {list-style: none; margin:0; padding: 0}\n",
       ".list-inline>li {display: inline-block}\n",
       ".list-inline>li:not(:last-child)::after {content: \"\\00b7\"; padding: 0 .5ex}\n",
       "</style>\n",
       "<ol class=list-inline><li>5595074</li><li>13</li></ol>\n"
      ],
      "text/latex": [
       "\\begin{enumerate*}\n",
       "\\item 5595074\n",
       "\\item 13\n",
       "\\end{enumerate*}\n"
      ],
      "text/markdown": [
       "1. 5595074\n",
       "2. 13\n",
       "\n",
       "\n"
      ],
      "text/plain": [
       "[1] 5595074      13"
      ]
     },
     "metadata": {},
     "output_type": "display_data"
    }
   ],
   "source": [
    "# head(df)\n",
    "dim(df)"
   ]
  },
  {
   "cell_type": "code",
   "execution_count": 4,
   "id": "34ea0bb3",
   "metadata": {},
   "outputs": [
    {
     "name": "stdout",
     "output_type": "stream",
     "text": [
      "spc_tbl_ [5,595,074 × 13] (S3: spec_tbl_df/tbl_df/tbl/data.frame)\n",
      " $ ride_id           : chr [1:5595074] \"E19E6F1B8D4C42ED\" \"DC88F20C2C55F27F\" \"EC45C94683FE3F27\" \"4FA453A75AE377DB\" ...\n",
      " $ rideable_type     : chr [1:5595074] \"electric_bike\" \"electric_bike\" \"electric_bike\" \"electric_bike\" ...\n",
      " $ started_at        : POSIXct[1:5595074], format: \"2021-01-23 16:14:19\" \"2021-01-27 18:43:08\" ...\n",
      " $ ended_at          : POSIXct[1:5595074], format: \"2021-01-23 16:24:44\" \"2021-01-27 18:47:12\" ...\n",
      " $ start_station_name: chr [1:5595074] \"California Ave & Cortez St\" \"California Ave & Cortez St\" \"California Ave & Cortez St\" \"California Ave & Cortez St\" ...\n",
      " $ start_station_id  : chr [1:5595074] \"17660\" \"17660\" \"17660\" \"17660\" ...\n",
      " $ end_station_name  : chr [1:5595074] NA NA NA NA ...\n",
      " $ end_station_id    : chr [1:5595074] NA NA NA NA ...\n",
      " $ start_lat         : num [1:5595074] 41.9 41.9 41.9 41.9 41.9 ...\n",
      " $ start_lng         : num [1:5595074] -87.7 -87.7 -87.7 -87.7 -87.7 ...\n",
      " $ end_lat           : num [1:5595074] 41.9 41.9 41.9 41.9 41.9 ...\n",
      " $ end_lng           : num [1:5595074] -87.7 -87.7 -87.7 -87.7 -87.7 ...\n",
      " $ member_casual     : chr [1:5595074] \"member\" \"member\" \"member\" \"member\" ...\n",
      " - attr(*, \"spec\")=\n",
      "  .. cols(\n",
      "  ..   ride_id = \u001b[31mcol_character()\u001b[39m,\n",
      "  ..   rideable_type = \u001b[31mcol_character()\u001b[39m,\n",
      "  ..   started_at = \u001b[34mcol_datetime(format = \"\")\u001b[39m,\n",
      "  ..   ended_at = \u001b[34mcol_datetime(format = \"\")\u001b[39m,\n",
      "  ..   start_station_name = \u001b[31mcol_character()\u001b[39m,\n",
      "  ..   start_station_id = \u001b[31mcol_character()\u001b[39m,\n",
      "  ..   end_station_name = \u001b[31mcol_character()\u001b[39m,\n",
      "  ..   end_station_id = \u001b[31mcol_character()\u001b[39m,\n",
      "  ..   start_lat = \u001b[32mcol_double()\u001b[39m,\n",
      "  ..   start_lng = \u001b[32mcol_double()\u001b[39m,\n",
      "  ..   end_lat = \u001b[32mcol_double()\u001b[39m,\n",
      "  ..   end_lng = \u001b[32mcol_double()\u001b[39m,\n",
      "  ..   member_casual = \u001b[31mcol_character()\u001b[39m\n",
      "  .. )\n",
      " - attr(*, \"problems\")=<externalptr> \n"
     ]
    }
   ],
   "source": [
    "str(df)"
   ]
  },
  {
   "cell_type": "code",
   "execution_count": null,
   "id": "d734a419",
   "metadata": {},
   "outputs": [],
   "source": []
  },
  {
   "cell_type": "code",
   "execution_count": null,
   "id": "c7da43a5",
   "metadata": {},
   "outputs": [],
   "source": []
  },
  {
   "cell_type": "code",
   "execution_count": null,
   "id": "c0e990a8",
   "metadata": {},
   "outputs": [],
   "source": []
  }
 ],
 "metadata": {
  "kernelspec": {
   "display_name": "R",
   "language": "R",
   "name": "ir"
  },
  "language_info": {
   "codemirror_mode": "r",
   "file_extension": ".r",
   "mimetype": "text/x-r-source",
   "name": "R",
   "pygments_lexer": "r",
   "version": "4.2.2"
  }
 },
 "nbformat": 4,
 "nbformat_minor": 5
}
