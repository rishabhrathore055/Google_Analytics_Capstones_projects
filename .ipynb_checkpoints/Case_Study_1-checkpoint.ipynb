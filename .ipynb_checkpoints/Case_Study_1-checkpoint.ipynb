{
 "cells": [
  {
   "cell_type": "markdown",
   "id": "8ea0d6af",
   "metadata": {},
   "source": [
    "# Case Study-1\n",
    "#### How Does A Bike-Share Navigate Speedy Success?"
   ]
  },
  {
   "cell_type": "markdown",
   "id": "4dcf5409",
   "metadata": {},
   "source": [
    "## Introduction:\n",
    "#### Google Data Analytics Capstone Project \n",
    "##### This case study focuses on Cyclistic, a bike-share company in Chicago."
   ]
  },
  {
   "cell_type": "markdown",
   "id": "4d7a3eb8",
   "metadata": {},
   "source": [
    "### Ask\n",
    "\n",
    "Three questions will guide the future marketing program:\n",
    "1. How do annual members and casual riders use Cyclistic bikes differently?\n",
    "2. Why would casual riders buy Cyclistic annual memberships?\n",
    "3. How can Cyclistic use digital media to influence casual riders to become members\n",
    "\n",
    "##### Background context on the case study:\n",
    "\n",
    "You are a junior data analyst working in the marketing analyst team at Cyclistic, a bike-share company in Chicago. The director of marketing believes the company’s future success depends on maximizing the number of annual memberships. Therefore, your team wants to understand how casual riders and annual members use Cyclistic bikes differently. From these insights, your team will design a new marketing strategy to convert casual riders into annual members. But first, Cyclistic executives must approve your recommendations, so they must be backed up with compelling data insights and professional data visualizations.\n",
    "##### Characters and teams:\n",
    "\n",
    "● Cyclistic: A bike-share program that features more than 5,800 bicycles and 600 docking stations. Cyclistic sets itself apart by also offering reclining bikes, hand tricycles, and cargo bikes, making bike-share more inclusive to people with disabilities and riders who can’t use a standard two-wheeled bike. The majority of riders opt for traditional bikes; about 8% of riders use the assistive options. Cyclistic users are more likely to ride for leisure, but about 30% use them to commute to work each day.\n",
    "\n",
    "● Lily Moreno: The director of marketing and your manager. Moreno is responsible for the development of campaignand initiatives to promote the bike-share program. These may include email, social media, and other channels.\n",
    "\n",
    "● Cyclistic marketing analytics team: A team of data analysts who are responsible for collecting, analyzing, and\n",
    "reporting data that helps guide Cyclistic marketing strategy. You joined this team six months ago and have been busy\n",
    "learning about Cyclistic’s mission and business goals — as well as how you, as a junior data analyst, can help Cyclistic\n",
    "achieve them.\n",
    "\n",
    "● Cyclistic executive team: The notoriously detail-oriented executive team will decide whether to approve the\n",
    "recommended marketing program."
   ]
  },
  {
   "cell_type": "markdown",
   "id": "32285191",
   "metadata": {},
   "source": [
    "#### Guiding questions\n",
    "\n",
    "1. What is the problem you are trying to solve?\n",
    "\n",
    "    Our primary goal is to analyse the profiles of annual members and casual riders and use that information to develop marketing strategies to help casual riders become annual members. \n",
    "\n",
    "2. How can your insights drive business decisions?\n",
    "\n",
    "    This information can help the marketing team increase the number of annual members.\n",
    "\n",
    "##### Key tasks\n",
    "1. Identify the business task - Completed\n",
    "2. Consider key stakeholders - Completed\n",
    "\n",
    "##### Deliverable\n",
    "• A clear statement of the business task\n",
    "Find the difference between annual members and casual riders, and identify the marketing strategy to use to increase annual members."
   ]
  },
  {
   "cell_type": "markdown",
   "id": "1cebcab5",
   "metadata": {},
   "source": [
    "### Prepare\n",
    "\n",
    "The Cyclistic’s historical trip data is given [here](https://divvy-tripdata.s3.amazonaws.com/index.html) analyze and identify the trends. Download the previous 12 months of Cyclistic trip data\n",
    "\n",
    "#### Guiding questions\n",
    "\n",
    "1. Where is your data located?\n",
    "\n",
    "    The data is stored in my local machine as a dataset named \"casestudy\".\n",
    "\n",
    "2. How is the data organized?\n",
    "\n",
    "    The datasets contain trip details from January to December 2021, and I later combined all of the csv files into one cvs file. \n",
    "\n",
    "3. Are there issues with bias or credibility in this data? Does your data ROCCC?\n",
    "\n",
    "    The data is collected from a first-party source that is the company's own data storage, so there is a low chance of bias, but because it is the company's own data, the credibility is very high. The data also does ROCCC as it is reliable, original, comprehensive, current, and cited.\n",
    "\n",
    "4. How are you addressing licensing, privacy, security, and accessibility?\n",
    "    \n",
    "    The data is open source, anyone can access it, and the company provides it, but it is also covered by the license. and the data does not include any personal details of the riders to protect their privacy.\n",
    "\n",
    "5. How did you verify the data’s integrity?\n",
    "\n",
    "    In the analysis of the data, it was found that the data types and the columns (amount and names) were all consistent.\n",
    "\n",
    "6. How does it help you answer your question?\n",
    "\n",
    "    After thoroughly reviewing data from annual members and casual riders to determine if there are any characteristics regarding the rides, bike usage, and needs\n",
    "\n",
    "7. Are there any problems with the data?\n",
    "\n",
    "    More information that can be present regarding the units of measure, stations, and riders would add to the data’s value.\n",
    "\n",
    "##### Key tasks\n",
    "\n",
    "1. Download data and store it appropriately. - Completed\n",
    "2. Identify how it’s organized. - Completed\n",
    "3. Sort and filter the data. - Completed\n",
    "4. Determine the credibility of the data. - Completed\n",
    "\n",
    "##### Deliverable\n",
    "\n",
    "• A description of all data sources used\n",
    "\n",
    "    The data source consists of 10 CSV files. Each month starting with April is an individual file. The period starts in January 2021 and runs until December 2021."
   ]
  },
  {
   "cell_type": "markdown",
   "id": "b662409b",
   "metadata": {},
   "source": [
    "### Process\n",
    "We can combine all CSV files into one to make it easier to manipulate and analyze. The combined file will be cleaned, and additional columns will be added.\n",
    "\n",
    "##### Guiding questions\n",
    "\n",
    "1. What tools are you choosing and why?\n",
    "\n",
    "We have spreadsheets and R as options, and I'm using R because the dataset is too large for spreadsheets. R will allow in-depth analysis and manipulation.\n",
    "\n",
    "2. Have you ensured your data’s integrity?\n",
    "\n",
    "I observed the columns after any changes and determined that the data types were consistent after manipulation.\n",
    "\n",
    "3. What steps have you taken to ensure that your data is clean?\n",
    "\n",
    "The null and multiple instances of data were removed, and the time and dates were formatted properly.\n",
    "\n",
    "4. How can you verify that your data is clean and ready to analyze?\n",
    "\n",
    "The data is ready for the next step when the data cleaning step is successfully completed.\n",
    "\n",
    "5. Have you documented your cleaning process so you can review and share those results?\n",
    "\n",
    "The cleaning process has been documented throughout.\n",
    "\n",
    "##### Key tasks\n",
    "1. Check the data for errors. - Completed\n",
    "2. Choose your tools.Completed\n",
    "3. Transform the data so you can work with it effectively. -Completed\n",
    "4. Document the cleaning process. -Completed\n",
    "\n",
    "*Deliverable*\n",
    "\n",
    "Documentation of any cleaning or manipulation of data"
   ]
  },
  {
   "cell_type": "markdown",
   "id": "c6ff86f4",
   "metadata": {},
   "source": [
    "#### Code"
   ]
  },
  {
   "cell_type": "code",
   "execution_count": 1,
   "id": "a32e6204",
   "metadata": {},
   "outputs": [
    {
     "name": "stderr",
     "output_type": "stream",
     "text": [
      "── \u001b[1mAttaching packages\u001b[22m ─────────────────────────────────────────────────────────────────────────────── tidyverse 1.3.2 ──\n",
      "\u001b[32m✔\u001b[39m \u001b[34mggplot2\u001b[39m 3.4.0      \u001b[32m✔\u001b[39m \u001b[34mpurrr  \u001b[39m 0.3.5 \n",
      "\u001b[32m✔\u001b[39m \u001b[34mtibble \u001b[39m 3.1.8      \u001b[32m✔\u001b[39m \u001b[34mdplyr  \u001b[39m 1.0.10\n",
      "\u001b[32m✔\u001b[39m \u001b[34mtidyr  \u001b[39m 1.2.1      \u001b[32m✔\u001b[39m \u001b[34mstringr\u001b[39m 1.4.1 \n",
      "\u001b[32m✔\u001b[39m \u001b[34mreadr  \u001b[39m 2.1.3      \u001b[32m✔\u001b[39m \u001b[34mforcats\u001b[39m 0.5.2 \n",
      "── \u001b[1mConflicts\u001b[22m ────────────────────────────────────────────────────────────────────────────────── tidyverse_conflicts() ──\n",
      "\u001b[31m✖\u001b[39m \u001b[34mdplyr\u001b[39m::\u001b[32mfilter()\u001b[39m masks \u001b[34mstats\u001b[39m::filter()\n",
      "\u001b[31m✖\u001b[39m \u001b[34mdplyr\u001b[39m::\u001b[32mlag()\u001b[39m    masks \u001b[34mstats\u001b[39m::lag()\n",
      "\n",
      "Attaching package: 'janitor'\n",
      "\n",
      "\n",
      "The following objects are masked from 'package:stats':\n",
      "\n",
      "    chisq.test, fisher.test\n",
      "\n",
      "\n",
      "Loading required package: timechange\n",
      "\n",
      "\n",
      "Attaching package: 'lubridate'\n",
      "\n",
      "\n",
      "The following objects are masked from 'package:base':\n",
      "\n",
      "    date, intersect, setdiff, union\n",
      "\n",
      "\n"
     ]
    }
   ],
   "source": [
    "# Importing libraries for data processing\n",
    "library(tidyverse)\n",
    "library(janitor)\n",
    "library(lubridate)\n",
    "library(ggplot2)\n",
    "# if not install allready in the system install.packages('tidyverse')"
   ]
  },
  {
   "cell_type": "markdown",
   "id": "0245fdeb",
   "metadata": {},
   "source": [
    "Importing the indiviudal CSV files and combining into one"
   ]
  },
  {
   "cell_type": "code",
   "execution_count": 2,
   "id": "89552e50",
   "metadata": {},
   "outputs": [],
   "source": [
    "tripdata_202101 <- read.csv(\"202101-divvy-tripdata.csv\")\n",
    "tripdata_202102 <- read.csv(\"202102-divvy-tripdata.csv\")\n",
    "tripdata_202103 <- read.csv(\"202103-divvy-tripdata.csv\")\n",
    "tripdata_202104 <- read.csv(\"202104-divvy-tripdata.csv\")\n",
    "tripdata_202105 <- read.csv(\"202105-divvy-tripdata.csv\")\n",
    "tripdata_202106 <- read.csv(\"202106-divvy-tripdata.csv\")\n",
    "tripdata_202107 <- read.csv(\"202107-divvy-tripdata.csv\")\n",
    "tripdata_202108 <- read.csv(\"202108-divvy-tripdata.csv\")\n",
    "tripdata_202109 <- read.csv(\"202109-divvy-tripdata.csv\")\n",
    "tripdata_202110 <- read.csv(\"202110-divvy-tripdata.csv\")\n",
    "tripdata_202111 <- read.csv(\"202111-divvy-tripdata.csv\")\n",
    "tripdata_202112 <- read.csv(\"202112-divvy-tripdata.csv\")\n"
   ]
  },
  {
   "cell_type": "code",
   "execution_count": 3,
   "id": "8fc5d830",
   "metadata": {},
   "outputs": [
    {
     "name": "stdout",
     "output_type": "stream",
     "text": [
      "'data.frame':\t96834 obs. of  13 variables:\n",
      " $ ride_id           : chr  \"E19E6F1B8D4C42ED\" \"DC88F20C2C55F27F\" \"EC45C94683FE3F27\" \"4FA453A75AE377DB\" ...\n",
      " $ rideable_type     : chr  \"electric_bike\" \"electric_bike\" \"electric_bike\" \"electric_bike\" ...\n",
      " $ started_at        : chr  \"2021-01-23 16:14:19\" \"2021-01-27 18:43:08\" \"2021-01-21 22:35:54\" \"2021-01-07 13:31:13\" ...\n",
      " $ ended_at          : chr  \"2021-01-23 16:24:44\" \"2021-01-27 18:47:12\" \"2021-01-21 22:37:14\" \"2021-01-07 13:42:55\" ...\n",
      " $ start_station_name: chr  \"California Ave & Cortez St\" \"California Ave & Cortez St\" \"California Ave & Cortez St\" \"California Ave & Cortez St\" ...\n",
      " $ start_station_id  : chr  \"17660\" \"17660\" \"17660\" \"17660\" ...\n",
      " $ end_station_name  : chr  \"\" \"\" \"\" \"\" ...\n",
      " $ end_station_id    : chr  \"\" \"\" \"\" \"\" ...\n",
      " $ start_lat         : num  41.9 41.9 41.9 41.9 41.9 ...\n",
      " $ start_lng         : num  -87.7 -87.7 -87.7 -87.7 -87.7 ...\n",
      " $ end_lat           : num  41.9 41.9 41.9 41.9 41.9 ...\n",
      " $ end_lng           : num  -87.7 -87.7 -87.7 -87.7 -87.7 ...\n",
      " $ member_casual     : chr  \"member\" \"member\" \"member\" \"member\" ...\n",
      "'data.frame':\t49622 obs. of  13 variables:\n",
      " $ ride_id           : chr  \"89E7AA6C29227EFF\" \"0FEFDE2603568365\" \"E6159D746B2DBB91\" \"B32D3199F1C2E75B\" ...\n",
      " $ rideable_type     : chr  \"classic_bike\" \"classic_bike\" \"electric_bike\" \"classic_bike\" ...\n",
      " $ started_at        : chr  \"2021-02-12 16:14:56\" \"2021-02-14 17:52:38\" \"2021-02-09 19:10:18\" \"2021-02-02 17:49:41\" ...\n",
      " $ ended_at          : chr  \"2021-02-12 16:21:43\" \"2021-02-14 18:12:09\" \"2021-02-09 19:19:10\" \"2021-02-02 17:54:06\" ...\n",
      " $ start_station_name: chr  \"Glenwood Ave & Touhy Ave\" \"Glenwood Ave & Touhy Ave\" \"Clark St & Lake St\" \"Wood St & Chicago Ave\" ...\n",
      " $ start_station_id  : chr  \"525\" \"525\" \"KA1503000012\" \"637\" ...\n",
      " $ end_station_name  : chr  \"Sheridan Rd & Columbia Ave\" \"Bosworth Ave & Howard St\" \"State St & Randolph St\" \"Honore St & Division St\" ...\n",
      " $ end_station_id    : chr  \"660\" \"16806\" \"TA1305000029\" \"TA1305000034\" ...\n",
      " $ start_lat         : num  42 42 41.9 41.9 41.8 ...\n",
      " $ start_lng         : num  -87.7 -87.7 -87.6 -87.7 -87.6 ...\n",
      " $ end_lat           : num  42 42 41.9 41.9 41.8 ...\n",
      " $ end_lng           : num  -87.7 -87.7 -87.6 -87.7 -87.6 ...\n",
      " $ member_casual     : chr  \"member\" \"casual\" \"member\" \"member\" ...\n",
      "'data.frame':\t228496 obs. of  13 variables:\n",
      " $ ride_id           : chr  \"CFA86D4455AA1030\" \"30D9DC61227D1AF3\" \"846D87A15682A284\" \"994D05AA75A168F2\" ...\n",
      " $ rideable_type     : chr  \"classic_bike\" \"classic_bike\" \"classic_bike\" \"classic_bike\" ...\n",
      " $ started_at        : chr  \"2021-03-16 08:32:30\" \"2021-03-28 01:26:28\" \"2021-03-11 21:17:29\" \"2021-03-11 13:26:42\" ...\n",
      " $ ended_at          : chr  \"2021-03-16 08:36:34\" \"2021-03-28 01:36:55\" \"2021-03-11 21:33:53\" \"2021-03-11 13:55:41\" ...\n",
      " $ start_station_name: chr  \"Humboldt Blvd & Armitage Ave\" \"Humboldt Blvd & Armitage Ave\" \"Shields Ave & 28th Pl\" \"Winthrop Ave & Lawrence Ave\" ...\n",
      " $ start_station_id  : chr  \"15651\" \"15651\" \"15443\" \"TA1308000021\" ...\n",
      " $ end_station_name  : chr  \"Stave St & Armitage Ave\" \"Central Park Ave & Bloomingdale Ave\" \"Halsted St & 35th St\" \"Broadway & Sheridan Rd\" ...\n",
      " $ end_station_id    : chr  \"13266\" \"18017\" \"TA1308000043\" \"13323\" ...\n",
      " $ start_lat         : num  41.9 41.9 41.8 42 42 ...\n",
      " $ start_lng         : num  -87.7 -87.7 -87.6 -87.7 -87.7 ...\n",
      " $ end_lat           : num  41.9 41.9 41.8 42 42.1 ...\n",
      " $ end_lng           : num  -87.7 -87.7 -87.6 -87.6 -87.7 ...\n",
      " $ member_casual     : chr  \"casual\" \"casual\" \"casual\" \"casual\" ...\n",
      "'data.frame':\t337230 obs. of  13 variables:\n",
      " $ ride_id           : chr  \"6C992BD37A98A63F\" \"1E0145613A209000\" \"E498E15508A80BAD\" \"1887262AD101C604\" ...\n",
      " $ rideable_type     : chr  \"classic_bike\" \"docked_bike\" \"docked_bike\" \"classic_bike\" ...\n",
      " $ started_at        : chr  \"2021-04-12 18:25:36\" \"2021-04-27 17:27:11\" \"2021-04-03 12:42:45\" \"2021-04-17 09:17:42\" ...\n",
      " $ ended_at          : chr  \"2021-04-12 18:56:55\" \"2021-04-27 18:31:29\" \"2021-04-07 11:40:24\" \"2021-04-17 09:42:48\" ...\n",
      " $ start_station_name: chr  \"State St & Pearson St\" \"Dorchester Ave & 49th St\" \"Loomis Blvd & 84th St\" \"Honore St & Division St\" ...\n",
      " $ start_station_id  : chr  \"TA1307000061\" \"KA1503000069\" \"20121\" \"TA1305000034\" ...\n",
      " $ end_station_name  : chr  \"Southport Ave & Waveland Ave\" \"Dorchester Ave & 49th St\" \"Loomis Blvd & 84th St\" \"Southport Ave & Waveland Ave\" ...\n",
      " $ end_station_id    : chr  \"13235\" \"KA1503000069\" \"20121\" \"13235\" ...\n",
      " $ start_lat         : num  41.9 41.8 41.7 41.9 41.7 ...\n",
      " $ start_lng         : num  -87.6 -87.6 -87.7 -87.7 -87.7 ...\n",
      " $ end_lat           : num  41.9 41.8 41.7 41.9 41.7 ...\n",
      " $ end_lng           : num  -87.7 -87.6 -87.7 -87.7 -87.7 ...\n",
      " $ member_casual     : chr  \"member\" \"casual\" \"casual\" \"member\" ...\n",
      "'data.frame':\t531633 obs. of  13 variables:\n",
      " $ ride_id           : chr  \"C809ED75D6160B2A\" \"DD59FDCE0ACACAF3\" \"0AB83CB88C43EFC2\" \"7881AC6D39110C60\" ...\n",
      " $ rideable_type     : chr  \"electric_bike\" \"electric_bike\" \"electric_bike\" \"electric_bike\" ...\n",
      " $ started_at        : chr  \"2021-05-30 11:58:15\" \"2021-05-30 11:29:14\" \"2021-05-30 14:24:01\" \"2021-05-30 14:25:51\" ...\n",
      " $ ended_at          : chr  \"2021-05-30 12:10:39\" \"2021-05-30 12:14:09\" \"2021-05-30 14:25:13\" \"2021-05-30 14:41:04\" ...\n",
      " $ start_station_name: chr  \"\" \"\" \"\" \"\" ...\n",
      " $ start_station_id  : chr  \"\" \"\" \"\" \"\" ...\n",
      " $ end_station_name  : chr  \"\" \"\" \"\" \"\" ...\n",
      " $ end_station_id    : chr  \"\" \"\" \"\" \"\" ...\n",
      " $ start_lat         : num  41.9 41.9 41.9 41.9 41.9 ...\n",
      " $ start_lng         : num  -87.6 -87.6 -87.7 -87.7 -87.7 ...\n",
      " $ end_lat           : num  41.9 41.8 41.9 41.9 41.9 ...\n",
      " $ end_lng           : num  -87.6 -87.6 -87.7 -87.7 -87.7 ...\n",
      " $ member_casual     : chr  \"casual\" \"casual\" \"casual\" \"casual\" ...\n",
      "'data.frame':\t729595 obs. of  13 variables:\n",
      " $ ride_id           : chr  \"99FEC93BA843FB20\" \"06048DCFC8520CAF\" \"9598066F68045DF2\" \"B03C0FE48C412214\" ...\n",
      " $ rideable_type     : chr  \"electric_bike\" \"electric_bike\" \"electric_bike\" \"electric_bike\" ...\n",
      " $ started_at        : chr  \"2021-06-13 14:31:28\" \"2021-06-04 11:18:02\" \"2021-06-04 09:49:35\" \"2021-06-03 19:56:05\" ...\n",
      " $ ended_at          : chr  \"2021-06-13 14:34:11\" \"2021-06-04 11:24:19\" \"2021-06-04 09:55:34\" \"2021-06-03 20:21:55\" ...\n",
      " $ start_station_name: chr  \"\" \"\" \"\" \"\" ...\n",
      " $ start_station_id  : chr  \"\" \"\" \"\" \"\" ...\n",
      " $ end_station_name  : chr  \"\" \"\" \"\" \"\" ...\n",
      " $ end_station_id    : chr  \"\" \"\" \"\" \"\" ...\n",
      " $ start_lat         : num  41.8 41.8 41.8 41.8 41.8 ...\n",
      " $ start_lng         : num  -87.6 -87.6 -87.6 -87.6 -87.6 ...\n",
      " $ end_lat           : num  41.8 41.8 41.8 41.8 41.8 ...\n",
      " $ end_lng           : num  -87.6 -87.6 -87.6 -87.6 -87.6 ...\n",
      " $ member_casual     : chr  \"member\" \"member\" \"member\" \"member\" ...\n",
      "'data.frame':\t822410 obs. of  13 variables:\n",
      " $ ride_id           : chr  \"0A1B623926EF4E16\" \"B2D5583A5A5E76EE\" \"6F264597DDBF427A\" \"379B58EAB20E8AA5\" ...\n",
      " $ rideable_type     : chr  \"docked_bike\" \"classic_bike\" \"classic_bike\" \"classic_bike\" ...\n",
      " $ started_at        : chr  \"2021-07-02 14:44:36\" \"2021-07-07 16:57:42\" \"2021-07-25 11:30:55\" \"2021-07-08 22:08:30\" ...\n",
      " $ ended_at          : chr  \"2021-07-02 15:19:58\" \"2021-07-07 17:16:09\" \"2021-07-25 11:48:45\" \"2021-07-08 22:23:32\" ...\n",
      " $ start_station_name: chr  \"Michigan Ave & Washington St\" \"California Ave & Cortez St\" \"Wabash Ave & 16th St\" \"California Ave & Cortez St\" ...\n",
      " $ start_station_id  : chr  \"13001\" \"17660\" \"SL-012\" \"17660\" ...\n",
      " $ end_station_name  : chr  \"Halsted St & North Branch St\" \"Wood St & Hubbard St\" \"Rush St & Hubbard St\" \"Carpenter St & Huron St\" ...\n",
      " $ end_station_id    : chr  \"KA1504000117\" \"13432\" \"KA1503000044\" \"13196\" ...\n",
      " $ start_lat         : num  41.9 41.9 41.9 41.9 41.9 ...\n",
      " $ start_lng         : num  -87.6 -87.7 -87.6 -87.7 -87.7 ...\n",
      " $ end_lat           : num  41.9 41.9 41.9 41.9 41.9 ...\n",
      " $ end_lng           : num  -87.6 -87.7 -87.6 -87.7 -87.7 ...\n",
      " $ member_casual     : chr  \"casual\" \"casual\" \"member\" \"member\" ...\n",
      "'data.frame':\t804352 obs. of  13 variables:\n",
      " $ ride_id           : chr  \"99103BB87CC6C1BB\" \"EAFCCCFB0A3FC5A1\" \"9EF4F46C57AD234D\" \"5834D3208BFAF1DA\" ...\n",
      " $ rideable_type     : chr  \"electric_bike\" \"electric_bike\" \"electric_bike\" \"electric_bike\" ...\n",
      " $ started_at        : chr  \"2021-08-10 17:15:49\" \"2021-08-10 17:23:14\" \"2021-08-21 02:34:23\" \"2021-08-21 06:52:55\" ...\n",
      " $ ended_at          : chr  \"2021-08-10 17:22:44\" \"2021-08-10 17:39:24\" \"2021-08-21 02:50:36\" \"2021-08-21 07:08:13\" ...\n",
      " $ start_station_name: chr  \"\" \"\" \"\" \"\" ...\n",
      " $ start_station_id  : chr  \"\" \"\" \"\" \"\" ...\n",
      " $ end_station_name  : chr  \"\" \"\" \"\" \"\" ...\n",
      " $ end_station_id    : chr  \"\" \"\" \"\" \"\" ...\n",
      " $ start_lat         : num  41.8 41.8 42 42 41.8 ...\n",
      " $ start_lng         : num  -87.7 -87.7 -87.7 -87.7 -87.6 ...\n",
      " $ end_lat           : num  41.8 41.8 42 42 41.8 ...\n",
      " $ end_lng           : num  -87.7 -87.6 -87.7 -87.7 -87.6 ...\n",
      " $ member_casual     : chr  \"member\" \"member\" \"member\" \"member\" ...\n"
     ]
    },
    {
     "name": "stdout",
     "output_type": "stream",
     "text": [
      "'data.frame':\t756147 obs. of  13 variables:\n",
      " $ ride_id           : chr  \"9DC7B962304CBFD8\" \"F930E2C6872D6B32\" \"6EF72137900BB910\" \"78D1DE133B3DBF55\" ...\n",
      " $ rideable_type     : chr  \"electric_bike\" \"electric_bike\" \"electric_bike\" \"electric_bike\" ...\n",
      " $ started_at        : chr  \"2021-09-28 16:07:10\" \"2021-09-28 14:24:51\" \"2021-09-28 00:20:16\" \"2021-09-28 14:51:17\" ...\n",
      " $ ended_at          : chr  \"2021-09-28 16:09:54\" \"2021-09-28 14:40:05\" \"2021-09-28 00:23:57\" \"2021-09-28 15:00:06\" ...\n",
      " $ start_station_name: chr  \"\" \"\" \"\" \"\" ...\n",
      " $ start_station_id  : chr  \"\" \"\" \"\" \"\" ...\n",
      " $ end_station_name  : chr  \"\" \"\" \"\" \"\" ...\n",
      " $ end_station_id    : chr  \"\" \"\" \"\" \"\" ...\n",
      " $ start_lat         : num  41.9 41.9 41.8 41.8 41.9 ...\n",
      " $ start_lng         : num  -87.7 -87.6 -87.7 -87.7 -87.7 ...\n",
      " $ end_lat           : num  41.9 42 41.8 41.8 41.9 ...\n",
      " $ end_lng           : num  -87.7 -87.7 -87.7 -87.7 -87.7 ...\n",
      " $ member_casual     : chr  \"casual\" \"casual\" \"casual\" \"casual\" ...\n",
      "'data.frame':\t631226 obs. of  13 variables:\n",
      " $ ride_id           : chr  \"620BC6107255BF4C\" \"4471C70731AB2E45\" \"26CA69D43D15EE14\" \"362947F0437E1514\" ...\n",
      " $ rideable_type     : chr  \"electric_bike\" \"electric_bike\" \"electric_bike\" \"electric_bike\" ...\n",
      " $ started_at        : chr  \"2021-10-22 12:46:42\" \"2021-10-21 09:12:37\" \"2021-10-16 16:28:39\" \"2021-10-16 16:17:48\" ...\n",
      " $ ended_at          : chr  \"2021-10-22 12:49:50\" \"2021-10-21 09:14:14\" \"2021-10-16 16:36:26\" \"2021-10-16 16:19:03\" ...\n",
      " $ start_station_name: chr  \"Kingsbury St & Kinzie St\" \"\" \"\" \"\" ...\n",
      " $ start_station_id  : chr  \"KA1503000043\" \"\" \"\" \"\" ...\n",
      " $ end_station_name  : chr  \"\" \"\" \"\" \"\" ...\n",
      " $ end_station_id    : chr  \"\" \"\" \"\" \"\" ...\n",
      " $ start_lat         : num  41.9 41.9 41.9 41.9 41.9 ...\n",
      " $ start_lng         : num  -87.6 -87.7 -87.7 -87.7 -87.7 ...\n",
      " $ end_lat           : num  41.9 41.9 41.9 41.9 41.9 ...\n",
      " $ end_lng           : num  -87.6 -87.7 -87.7 -87.7 -87.7 ...\n",
      " $ member_casual     : chr  \"member\" \"member\" \"member\" \"member\" ...\n",
      "'data.frame':\t359978 obs. of  13 variables:\n",
      " $ ride_id           : chr  \"7C00A93E10556E47\" \"90854840DFD508BA\" \"0A7D10CDD144061C\" \"2F3BE33085BCFF02\" ...\n",
      " $ rideable_type     : chr  \"electric_bike\" \"electric_bike\" \"electric_bike\" \"electric_bike\" ...\n",
      " $ started_at        : chr  \"2021-11-27 13:27:38\" \"2021-11-27 13:38:25\" \"2021-11-26 22:03:34\" \"2021-11-27 09:56:49\" ...\n",
      " $ ended_at          : chr  \"2021-11-27 13:46:38\" \"2021-11-27 13:56:10\" \"2021-11-26 22:05:56\" \"2021-11-27 10:01:50\" ...\n",
      " $ start_station_name: chr  \"\" \"\" \"\" \"\" ...\n",
      " $ start_station_id  : chr  \"\" \"\" \"\" \"\" ...\n",
      " $ end_station_name  : chr  \"\" \"\" \"\" \"\" ...\n",
      " $ end_station_id    : chr  \"\" \"\" \"\" \"\" ...\n",
      " $ start_lat         : num  41.9 42 42 41.9 41.9 ...\n",
      " $ start_lng         : num  -87.7 -87.7 -87.7 -87.8 -87.6 ...\n",
      " $ end_lat           : num  42 41.9 42 41.9 41.9 ...\n",
      " $ end_lng           : num  -87.7 -87.7 -87.7 -87.8 -87.6 ...\n",
      " $ member_casual     : chr  \"casual\" \"casual\" \"casual\" \"casual\" ...\n",
      "'data.frame':\t247540 obs. of  13 variables:\n",
      " $ ride_id           : chr  \"46F8167220E4431F\" \"73A77762838B32FD\" \"4CF42452054F59C5\" \"3278BA87BF698339\" ...\n",
      " $ rideable_type     : chr  \"electric_bike\" \"electric_bike\" \"electric_bike\" \"classic_bike\" ...\n",
      " $ started_at        : chr  \"2021-12-07 15:06:07\" \"2021-12-11 03:43:29\" \"2021-12-15 23:10:28\" \"2021-12-26 16:16:10\" ...\n",
      " $ ended_at          : chr  \"2021-12-07 15:13:42\" \"2021-12-11 04:10:23\" \"2021-12-15 23:23:14\" \"2021-12-26 16:30:53\" ...\n",
      " $ start_station_name: chr  \"Laflin St & Cullerton St\" \"LaSalle Dr & Huron St\" \"Halsted St & North Branch St\" \"Halsted St & North Branch St\" ...\n",
      " $ start_station_id  : chr  \"13307\" \"KP1705001026\" \"KA1504000117\" \"KA1504000117\" ...\n",
      " $ end_station_name  : chr  \"Morgan St & Polk St\" \"Clarendon Ave & Leland Ave\" \"Broadway & Barry Ave\" \"LaSalle Dr & Huron St\" ...\n",
      " $ end_station_id    : chr  \"TA1307000130\" \"TA1307000119\" \"13137\" \"KP1705001026\" ...\n",
      " $ start_lat         : num  41.9 41.9 41.9 41.9 41.9 ...\n",
      " $ start_lng         : num  -87.7 -87.6 -87.6 -87.6 -87.7 ...\n",
      " $ end_lat           : num  41.9 42 41.9 41.9 41.9 ...\n",
      " $ end_lng           : num  -87.7 -87.7 -87.6 -87.6 -87.6 ...\n",
      " $ member_casual     : chr  \"member\" \"casual\" \"member\" \"member\" ...\n"
     ]
    }
   ],
   "source": [
    "\n",
    "str(tripdata_202101)\n",
    "str(tripdata_202102)\n",
    "str(tripdata_202103)\n",
    "str(tripdata_202104)\n",
    "str(tripdata_202105)\n",
    "str(tripdata_202106)\n",
    "str(tripdata_202107)\n",
    "str(tripdata_202108)\n",
    "str(tripdata_202109)\n",
    "str(tripdata_202110)\n",
    "str(tripdata_202111)\n",
    "str(tripdata_202112)"
   ]
  },
  {
   "cell_type": "code",
   "execution_count": 4,
   "id": "d734a419",
   "metadata": {},
   "outputs": [],
   "source": [
    "## Combining all the individual files into one data file\n",
    "tripdata_2021 <- rbind(tripdata_202101, tripdata_202102, tripdata_202103, tripdata_202104, \n",
    "                       tripdata_202105, tripdata_202106, tripdata_202107, tripdata_202108,\n",
    "                       tripdata_202109, tripdata_202110,tripdata_202111,tripdata_202112)"
   ]
  },
  {
   "cell_type": "code",
   "execution_count": 5,
   "id": "c7da43a5",
   "metadata": {},
   "outputs": [
    {
     "data": {
      "text/html": [
       "<table class=\"dataframe\">\n",
       "<caption>A data.frame: 6 × 13</caption>\n",
       "<thead>\n",
       "\t<tr><th></th><th scope=col>ride_id</th><th scope=col>rideable_type</th><th scope=col>started_at</th><th scope=col>ended_at</th><th scope=col>start_station_name</th><th scope=col>start_station_id</th><th scope=col>end_station_name</th><th scope=col>end_station_id</th><th scope=col>start_lat</th><th scope=col>start_lng</th><th scope=col>end_lat</th><th scope=col>end_lng</th><th scope=col>member_casual</th></tr>\n",
       "\t<tr><th></th><th scope=col>&lt;chr&gt;</th><th scope=col>&lt;chr&gt;</th><th scope=col>&lt;chr&gt;</th><th scope=col>&lt;chr&gt;</th><th scope=col>&lt;chr&gt;</th><th scope=col>&lt;chr&gt;</th><th scope=col>&lt;chr&gt;</th><th scope=col>&lt;chr&gt;</th><th scope=col>&lt;dbl&gt;</th><th scope=col>&lt;dbl&gt;</th><th scope=col>&lt;dbl&gt;</th><th scope=col>&lt;dbl&gt;</th><th scope=col>&lt;chr&gt;</th></tr>\n",
       "</thead>\n",
       "<tbody>\n",
       "\t<tr><th scope=row>1</th><td>E19E6F1B8D4C42ED</td><td>electric_bike</td><td>2021-01-23 16:14:19</td><td>2021-01-23 16:24:44</td><td>California Ave &amp; Cortez St</td><td>17660</td><td></td><td></td><td>41.90034</td><td>-87.69674</td><td>41.89</td><td>-87.72</td><td>member</td></tr>\n",
       "\t<tr><th scope=row>2</th><td>DC88F20C2C55F27F</td><td>electric_bike</td><td>2021-01-27 18:43:08</td><td>2021-01-27 18:47:12</td><td>California Ave &amp; Cortez St</td><td>17660</td><td></td><td></td><td>41.90033</td><td>-87.69671</td><td>41.90</td><td>-87.69</td><td>member</td></tr>\n",
       "\t<tr><th scope=row>3</th><td>EC45C94683FE3F27</td><td>electric_bike</td><td>2021-01-21 22:35:54</td><td>2021-01-21 22:37:14</td><td>California Ave &amp; Cortez St</td><td>17660</td><td></td><td></td><td>41.90031</td><td>-87.69664</td><td>41.90</td><td>-87.70</td><td>member</td></tr>\n",
       "\t<tr><th scope=row>4</th><td>4FA453A75AE377DB</td><td>electric_bike</td><td>2021-01-07 13:31:13</td><td>2021-01-07 13:42:55</td><td>California Ave &amp; Cortez St</td><td>17660</td><td></td><td></td><td>41.90040</td><td>-87.69666</td><td>41.92</td><td>-87.69</td><td>member</td></tr>\n",
       "\t<tr><th scope=row>5</th><td>BE5E8EB4E7263A0B</td><td>electric_bike</td><td>2021-01-23 02:24:02</td><td>2021-01-23 02:24:45</td><td>California Ave &amp; Cortez St</td><td>17660</td><td></td><td></td><td>41.90033</td><td>-87.69670</td><td>41.90</td><td>-87.70</td><td>casual</td></tr>\n",
       "\t<tr><th scope=row>6</th><td>5D8969F88C773979</td><td>electric_bike</td><td>2021-01-09 14:24:07</td><td>2021-01-09 15:17:54</td><td>California Ave &amp; Cortez St</td><td>17660</td><td></td><td></td><td>41.90041</td><td>-87.69676</td><td>41.94</td><td>-87.71</td><td>casual</td></tr>\n",
       "</tbody>\n",
       "</table>\n"
      ],
      "text/latex": [
       "A data.frame: 6 × 13\n",
       "\\begin{tabular}{r|lllllllllllll}\n",
       "  & ride\\_id & rideable\\_type & started\\_at & ended\\_at & start\\_station\\_name & start\\_station\\_id & end\\_station\\_name & end\\_station\\_id & start\\_lat & start\\_lng & end\\_lat & end\\_lng & member\\_casual\\\\\n",
       "  & <chr> & <chr> & <chr> & <chr> & <chr> & <chr> & <chr> & <chr> & <dbl> & <dbl> & <dbl> & <dbl> & <chr>\\\\\n",
       "\\hline\n",
       "\t1 & E19E6F1B8D4C42ED & electric\\_bike & 2021-01-23 16:14:19 & 2021-01-23 16:24:44 & California Ave \\& Cortez St & 17660 &  &  & 41.90034 & -87.69674 & 41.89 & -87.72 & member\\\\\n",
       "\t2 & DC88F20C2C55F27F & electric\\_bike & 2021-01-27 18:43:08 & 2021-01-27 18:47:12 & California Ave \\& Cortez St & 17660 &  &  & 41.90033 & -87.69671 & 41.90 & -87.69 & member\\\\\n",
       "\t3 & EC45C94683FE3F27 & electric\\_bike & 2021-01-21 22:35:54 & 2021-01-21 22:37:14 & California Ave \\& Cortez St & 17660 &  &  & 41.90031 & -87.69664 & 41.90 & -87.70 & member\\\\\n",
       "\t4 & 4FA453A75AE377DB & electric\\_bike & 2021-01-07 13:31:13 & 2021-01-07 13:42:55 & California Ave \\& Cortez St & 17660 &  &  & 41.90040 & -87.69666 & 41.92 & -87.69 & member\\\\\n",
       "\t5 & BE5E8EB4E7263A0B & electric\\_bike & 2021-01-23 02:24:02 & 2021-01-23 02:24:45 & California Ave \\& Cortez St & 17660 &  &  & 41.90033 & -87.69670 & 41.90 & -87.70 & casual\\\\\n",
       "\t6 & 5D8969F88C773979 & electric\\_bike & 2021-01-09 14:24:07 & 2021-01-09 15:17:54 & California Ave \\& Cortez St & 17660 &  &  & 41.90041 & -87.69676 & 41.94 & -87.71 & casual\\\\\n",
       "\\end{tabular}\n"
      ],
      "text/markdown": [
       "\n",
       "A data.frame: 6 × 13\n",
       "\n",
       "| <!--/--> | ride_id &lt;chr&gt; | rideable_type &lt;chr&gt; | started_at &lt;chr&gt; | ended_at &lt;chr&gt; | start_station_name &lt;chr&gt; | start_station_id &lt;chr&gt; | end_station_name &lt;chr&gt; | end_station_id &lt;chr&gt; | start_lat &lt;dbl&gt; | start_lng &lt;dbl&gt; | end_lat &lt;dbl&gt; | end_lng &lt;dbl&gt; | member_casual &lt;chr&gt; |\n",
       "|---|---|---|---|---|---|---|---|---|---|---|---|---|---|\n",
       "| 1 | E19E6F1B8D4C42ED | electric_bike | 2021-01-23 16:14:19 | 2021-01-23 16:24:44 | California Ave &amp; Cortez St | 17660 | <!----> | <!----> | 41.90034 | -87.69674 | 41.89 | -87.72 | member |\n",
       "| 2 | DC88F20C2C55F27F | electric_bike | 2021-01-27 18:43:08 | 2021-01-27 18:47:12 | California Ave &amp; Cortez St | 17660 | <!----> | <!----> | 41.90033 | -87.69671 | 41.90 | -87.69 | member |\n",
       "| 3 | EC45C94683FE3F27 | electric_bike | 2021-01-21 22:35:54 | 2021-01-21 22:37:14 | California Ave &amp; Cortez St | 17660 | <!----> | <!----> | 41.90031 | -87.69664 | 41.90 | -87.70 | member |\n",
       "| 4 | 4FA453A75AE377DB | electric_bike | 2021-01-07 13:31:13 | 2021-01-07 13:42:55 | California Ave &amp; Cortez St | 17660 | <!----> | <!----> | 41.90040 | -87.69666 | 41.92 | -87.69 | member |\n",
       "| 5 | BE5E8EB4E7263A0B | electric_bike | 2021-01-23 02:24:02 | 2021-01-23 02:24:45 | California Ave &amp; Cortez St | 17660 | <!----> | <!----> | 41.90033 | -87.69670 | 41.90 | -87.70 | casual |\n",
       "| 6 | 5D8969F88C773979 | electric_bike | 2021-01-09 14:24:07 | 2021-01-09 15:17:54 | California Ave &amp; Cortez St | 17660 | <!----> | <!----> | 41.90041 | -87.69676 | 41.94 | -87.71 | casual |\n",
       "\n"
      ],
      "text/plain": [
       "  ride_id          rideable_type started_at          ended_at           \n",
       "1 E19E6F1B8D4C42ED electric_bike 2021-01-23 16:14:19 2021-01-23 16:24:44\n",
       "2 DC88F20C2C55F27F electric_bike 2021-01-27 18:43:08 2021-01-27 18:47:12\n",
       "3 EC45C94683FE3F27 electric_bike 2021-01-21 22:35:54 2021-01-21 22:37:14\n",
       "4 4FA453A75AE377DB electric_bike 2021-01-07 13:31:13 2021-01-07 13:42:55\n",
       "5 BE5E8EB4E7263A0B electric_bike 2021-01-23 02:24:02 2021-01-23 02:24:45\n",
       "6 5D8969F88C773979 electric_bike 2021-01-09 14:24:07 2021-01-09 15:17:54\n",
       "  start_station_name         start_station_id end_station_name end_station_id\n",
       "1 California Ave & Cortez St 17660                                           \n",
       "2 California Ave & Cortez St 17660                                           \n",
       "3 California Ave & Cortez St 17660                                           \n",
       "4 California Ave & Cortez St 17660                                           \n",
       "5 California Ave & Cortez St 17660                                           \n",
       "6 California Ave & Cortez St 17660                                           \n",
       "  start_lat start_lng end_lat end_lng member_casual\n",
       "1 41.90034  -87.69674 41.89   -87.72  member       \n",
       "2 41.90033  -87.69671 41.90   -87.69  member       \n",
       "3 41.90031  -87.69664 41.90   -87.70  member       \n",
       "4 41.90040  -87.69666 41.92   -87.69  member       \n",
       "5 41.90033  -87.69670 41.90   -87.70  casual       \n",
       "6 41.90041  -87.69676 41.94   -87.71  casual       "
      ]
     },
     "metadata": {},
     "output_type": "display_data"
    }
   ],
   "source": [
    "head(tripdata_2021)"
   ]
  },
  {
   "cell_type": "code",
   "execution_count": 6,
   "id": "4143dae0",
   "metadata": {},
   "outputs": [
    {
     "data": {
      "text/html": [
       "5595063"
      ],
      "text/latex": [
       "5595063"
      ],
      "text/markdown": [
       "5595063"
      ],
      "text/plain": [
       "[1] 5595063"
      ]
     },
     "metadata": {},
     "output_type": "display_data"
    }
   ],
   "source": [
    "row_tottal <- sum(nrow(tripdata_202101), nrow(tripdata_202102), nrow(tripdata_202103), nrow(tripdata_202104), \n",
    "                       nrow(tripdata_202105), nrow(tripdata_202106), nrow(tripdata_202107), nrow(tripdata_202108),\n",
    "                       nrow(tripdata_202109), nrow(tripdata_202110),nrow(tripdata_202111),nrow(tripdata_202112))\n",
    "row_tottal"
   ]
  },
  {
   "cell_type": "code",
   "execution_count": 7,
   "id": "c0e990a8",
   "metadata": {},
   "outputs": [
    {
     "name": "stdout",
     "output_type": "stream",
     "text": [
      "[1] 5595063\n"
     ]
    }
   ],
   "source": [
    "print(nrow(tripdata_2021))"
   ]
  },
  {
   "cell_type": "code",
   "execution_count": 8,
   "id": "8e2471a9",
   "metadata": {},
   "outputs": [
    {
     "name": "stdout",
     "output_type": "stream",
     "text": [
      "'data.frame':\t5595063 obs. of  13 variables:\n",
      " $ ride_id           : chr  \"E19E6F1B8D4C42ED\" \"DC88F20C2C55F27F\" \"EC45C94683FE3F27\" \"4FA453A75AE377DB\" ...\n",
      " $ rideable_type     : chr  \"electric_bike\" \"electric_bike\" \"electric_bike\" \"electric_bike\" ...\n",
      " $ started_at        : chr  \"2021-01-23 16:14:19\" \"2021-01-27 18:43:08\" \"2021-01-21 22:35:54\" \"2021-01-07 13:31:13\" ...\n",
      " $ ended_at          : chr  \"2021-01-23 16:24:44\" \"2021-01-27 18:47:12\" \"2021-01-21 22:37:14\" \"2021-01-07 13:42:55\" ...\n",
      " $ start_station_name: chr  \"California Ave & Cortez St\" \"California Ave & Cortez St\" \"California Ave & Cortez St\" \"California Ave & Cortez St\" ...\n",
      " $ start_station_id  : chr  \"17660\" \"17660\" \"17660\" \"17660\" ...\n",
      " $ end_station_name  : chr  \"\" \"\" \"\" \"\" ...\n",
      " $ end_station_id    : chr  \"\" \"\" \"\" \"\" ...\n",
      " $ start_lat         : num  41.9 41.9 41.9 41.9 41.9 ...\n",
      " $ start_lng         : num  -87.7 -87.7 -87.7 -87.7 -87.7 ...\n",
      " $ end_lat           : num  41.9 41.9 41.9 41.9 41.9 ...\n",
      " $ end_lng           : num  -87.7 -87.7 -87.7 -87.7 -87.7 ...\n",
      " $ member_casual     : chr  \"member\" \"member\" \"member\" \"member\" ...\n"
     ]
    },
    {
     "data": {
      "text/html": [
       "<table class=\"dataframe\">\n",
       "<caption>A data.frame: 6 × 13</caption>\n",
       "<thead>\n",
       "\t<tr><th></th><th scope=col>ride_id</th><th scope=col>rideable_type</th><th scope=col>started_at</th><th scope=col>ended_at</th><th scope=col>start_station_name</th><th scope=col>start_station_id</th><th scope=col>end_station_name</th><th scope=col>end_station_id</th><th scope=col>start_lat</th><th scope=col>start_lng</th><th scope=col>end_lat</th><th scope=col>end_lng</th><th scope=col>member_casual</th></tr>\n",
       "\t<tr><th></th><th scope=col>&lt;chr&gt;</th><th scope=col>&lt;chr&gt;</th><th scope=col>&lt;chr&gt;</th><th scope=col>&lt;chr&gt;</th><th scope=col>&lt;chr&gt;</th><th scope=col>&lt;chr&gt;</th><th scope=col>&lt;chr&gt;</th><th scope=col>&lt;chr&gt;</th><th scope=col>&lt;dbl&gt;</th><th scope=col>&lt;dbl&gt;</th><th scope=col>&lt;dbl&gt;</th><th scope=col>&lt;dbl&gt;</th><th scope=col>&lt;chr&gt;</th></tr>\n",
       "</thead>\n",
       "<tbody>\n",
       "\t<tr><th scope=row>1</th><td>E19E6F1B8D4C42ED</td><td>electric_bike</td><td>2021-01-23 16:14:19</td><td>2021-01-23 16:24:44</td><td>California Ave &amp; Cortez St</td><td>17660</td><td></td><td></td><td>41.90034</td><td>-87.69674</td><td>41.89</td><td>-87.72</td><td>member</td></tr>\n",
       "\t<tr><th scope=row>2</th><td>DC88F20C2C55F27F</td><td>electric_bike</td><td>2021-01-27 18:43:08</td><td>2021-01-27 18:47:12</td><td>California Ave &amp; Cortez St</td><td>17660</td><td></td><td></td><td>41.90033</td><td>-87.69671</td><td>41.90</td><td>-87.69</td><td>member</td></tr>\n",
       "\t<tr><th scope=row>3</th><td>EC45C94683FE3F27</td><td>electric_bike</td><td>2021-01-21 22:35:54</td><td>2021-01-21 22:37:14</td><td>California Ave &amp; Cortez St</td><td>17660</td><td></td><td></td><td>41.90031</td><td>-87.69664</td><td>41.90</td><td>-87.70</td><td>member</td></tr>\n",
       "\t<tr><th scope=row>4</th><td>4FA453A75AE377DB</td><td>electric_bike</td><td>2021-01-07 13:31:13</td><td>2021-01-07 13:42:55</td><td>California Ave &amp; Cortez St</td><td>17660</td><td></td><td></td><td>41.90040</td><td>-87.69666</td><td>41.92</td><td>-87.69</td><td>member</td></tr>\n",
       "\t<tr><th scope=row>5</th><td>BE5E8EB4E7263A0B</td><td>electric_bike</td><td>2021-01-23 02:24:02</td><td>2021-01-23 02:24:45</td><td>California Ave &amp; Cortez St</td><td>17660</td><td></td><td></td><td>41.90033</td><td>-87.69670</td><td>41.90</td><td>-87.70</td><td>casual</td></tr>\n",
       "\t<tr><th scope=row>6</th><td>5D8969F88C773979</td><td>electric_bike</td><td>2021-01-09 14:24:07</td><td>2021-01-09 15:17:54</td><td>California Ave &amp; Cortez St</td><td>17660</td><td></td><td></td><td>41.90041</td><td>-87.69676</td><td>41.94</td><td>-87.71</td><td>casual</td></tr>\n",
       "</tbody>\n",
       "</table>\n"
      ],
      "text/latex": [
       "A data.frame: 6 × 13\n",
       "\\begin{tabular}{r|lllllllllllll}\n",
       "  & ride\\_id & rideable\\_type & started\\_at & ended\\_at & start\\_station\\_name & start\\_station\\_id & end\\_station\\_name & end\\_station\\_id & start\\_lat & start\\_lng & end\\_lat & end\\_lng & member\\_casual\\\\\n",
       "  & <chr> & <chr> & <chr> & <chr> & <chr> & <chr> & <chr> & <chr> & <dbl> & <dbl> & <dbl> & <dbl> & <chr>\\\\\n",
       "\\hline\n",
       "\t1 & E19E6F1B8D4C42ED & electric\\_bike & 2021-01-23 16:14:19 & 2021-01-23 16:24:44 & California Ave \\& Cortez St & 17660 &  &  & 41.90034 & -87.69674 & 41.89 & -87.72 & member\\\\\n",
       "\t2 & DC88F20C2C55F27F & electric\\_bike & 2021-01-27 18:43:08 & 2021-01-27 18:47:12 & California Ave \\& Cortez St & 17660 &  &  & 41.90033 & -87.69671 & 41.90 & -87.69 & member\\\\\n",
       "\t3 & EC45C94683FE3F27 & electric\\_bike & 2021-01-21 22:35:54 & 2021-01-21 22:37:14 & California Ave \\& Cortez St & 17660 &  &  & 41.90031 & -87.69664 & 41.90 & -87.70 & member\\\\\n",
       "\t4 & 4FA453A75AE377DB & electric\\_bike & 2021-01-07 13:31:13 & 2021-01-07 13:42:55 & California Ave \\& Cortez St & 17660 &  &  & 41.90040 & -87.69666 & 41.92 & -87.69 & member\\\\\n",
       "\t5 & BE5E8EB4E7263A0B & electric\\_bike & 2021-01-23 02:24:02 & 2021-01-23 02:24:45 & California Ave \\& Cortez St & 17660 &  &  & 41.90033 & -87.69670 & 41.90 & -87.70 & casual\\\\\n",
       "\t6 & 5D8969F88C773979 & electric\\_bike & 2021-01-09 14:24:07 & 2021-01-09 15:17:54 & California Ave \\& Cortez St & 17660 &  &  & 41.90041 & -87.69676 & 41.94 & -87.71 & casual\\\\\n",
       "\\end{tabular}\n"
      ],
      "text/markdown": [
       "\n",
       "A data.frame: 6 × 13\n",
       "\n",
       "| <!--/--> | ride_id &lt;chr&gt; | rideable_type &lt;chr&gt; | started_at &lt;chr&gt; | ended_at &lt;chr&gt; | start_station_name &lt;chr&gt; | start_station_id &lt;chr&gt; | end_station_name &lt;chr&gt; | end_station_id &lt;chr&gt; | start_lat &lt;dbl&gt; | start_lng &lt;dbl&gt; | end_lat &lt;dbl&gt; | end_lng &lt;dbl&gt; | member_casual &lt;chr&gt; |\n",
       "|---|---|---|---|---|---|---|---|---|---|---|---|---|---|\n",
       "| 1 | E19E6F1B8D4C42ED | electric_bike | 2021-01-23 16:14:19 | 2021-01-23 16:24:44 | California Ave &amp; Cortez St | 17660 | <!----> | <!----> | 41.90034 | -87.69674 | 41.89 | -87.72 | member |\n",
       "| 2 | DC88F20C2C55F27F | electric_bike | 2021-01-27 18:43:08 | 2021-01-27 18:47:12 | California Ave &amp; Cortez St | 17660 | <!----> | <!----> | 41.90033 | -87.69671 | 41.90 | -87.69 | member |\n",
       "| 3 | EC45C94683FE3F27 | electric_bike | 2021-01-21 22:35:54 | 2021-01-21 22:37:14 | California Ave &amp; Cortez St | 17660 | <!----> | <!----> | 41.90031 | -87.69664 | 41.90 | -87.70 | member |\n",
       "| 4 | 4FA453A75AE377DB | electric_bike | 2021-01-07 13:31:13 | 2021-01-07 13:42:55 | California Ave &amp; Cortez St | 17660 | <!----> | <!----> | 41.90040 | -87.69666 | 41.92 | -87.69 | member |\n",
       "| 5 | BE5E8EB4E7263A0B | electric_bike | 2021-01-23 02:24:02 | 2021-01-23 02:24:45 | California Ave &amp; Cortez St | 17660 | <!----> | <!----> | 41.90033 | -87.69670 | 41.90 | -87.70 | casual |\n",
       "| 6 | 5D8969F88C773979 | electric_bike | 2021-01-09 14:24:07 | 2021-01-09 15:17:54 | California Ave &amp; Cortez St | 17660 | <!----> | <!----> | 41.90041 | -87.69676 | 41.94 | -87.71 | casual |\n",
       "\n"
      ],
      "text/plain": [
       "  ride_id          rideable_type started_at          ended_at           \n",
       "1 E19E6F1B8D4C42ED electric_bike 2021-01-23 16:14:19 2021-01-23 16:24:44\n",
       "2 DC88F20C2C55F27F electric_bike 2021-01-27 18:43:08 2021-01-27 18:47:12\n",
       "3 EC45C94683FE3F27 electric_bike 2021-01-21 22:35:54 2021-01-21 22:37:14\n",
       "4 4FA453A75AE377DB electric_bike 2021-01-07 13:31:13 2021-01-07 13:42:55\n",
       "5 BE5E8EB4E7263A0B electric_bike 2021-01-23 02:24:02 2021-01-23 02:24:45\n",
       "6 5D8969F88C773979 electric_bike 2021-01-09 14:24:07 2021-01-09 15:17:54\n",
       "  start_station_name         start_station_id end_station_name end_station_id\n",
       "1 California Ave & Cortez St 17660                                           \n",
       "2 California Ave & Cortez St 17660                                           \n",
       "3 California Ave & Cortez St 17660                                           \n",
       "4 California Ave & Cortez St 17660                                           \n",
       "5 California Ave & Cortez St 17660                                           \n",
       "6 California Ave & Cortez St 17660                                           \n",
       "  start_lat start_lng end_lat end_lng member_casual\n",
       "1 41.90034  -87.69674 41.89   -87.72  member       \n",
       "2 41.90033  -87.69671 41.90   -87.69  member       \n",
       "3 41.90031  -87.69664 41.90   -87.70  member       \n",
       "4 41.90040  -87.69666 41.92   -87.69  member       \n",
       "5 41.90033  -87.69670 41.90   -87.70  casual       \n",
       "6 41.90041  -87.69676 41.94   -87.71  casual       "
      ]
     },
     "metadata": {},
     "output_type": "display_data"
    }
   ],
   "source": [
    "str(tripdata_2021)\n",
    "\n",
    "head(tripdata_2021)"
   ]
  },
  {
   "cell_type": "markdown",
   "id": "5bca76a0",
   "metadata": {},
   "source": [
    "#### Data cleaning"
   ]
  },
  {
   "cell_type": "code",
   "execution_count": 9,
   "id": "16cc3146",
   "metadata": {},
   "outputs": [],
   "source": [
    "tripdata_2021$date <- as.Date(tripdata_2021$started_at)\n",
    "tripdata_2021$month <- format(as.Date(tripdata_2021$date), \"%b\")\n",
    "tripdata_2021$day <- format(as.Date(tripdata_2021$date), \"%d\")\n",
    "tripdata_2021$year <- format(as.Date(tripdata_2021$date), \"%Y\")\n",
    "tripdata_2021$day_of_week <- format(as.Date(tripdata_2021$date), \"%A\")"
   ]
  },
  {
   "cell_type": "code",
   "execution_count": 10,
   "id": "367b064e",
   "metadata": {},
   "outputs": [
    {
     "data": {
      "text/html": [
       "<table class=\"dataframe\">\n",
       "<caption>A data.frame: 6 × 18</caption>\n",
       "<thead>\n",
       "\t<tr><th></th><th scope=col>ride_id</th><th scope=col>rideable_type</th><th scope=col>started_at</th><th scope=col>ended_at</th><th scope=col>start_station_name</th><th scope=col>start_station_id</th><th scope=col>end_station_name</th><th scope=col>end_station_id</th><th scope=col>start_lat</th><th scope=col>start_lng</th><th scope=col>end_lat</th><th scope=col>end_lng</th><th scope=col>member_casual</th><th scope=col>date</th><th scope=col>month</th><th scope=col>day</th><th scope=col>year</th><th scope=col>day_of_week</th></tr>\n",
       "\t<tr><th></th><th scope=col>&lt;chr&gt;</th><th scope=col>&lt;chr&gt;</th><th scope=col>&lt;chr&gt;</th><th scope=col>&lt;chr&gt;</th><th scope=col>&lt;chr&gt;</th><th scope=col>&lt;chr&gt;</th><th scope=col>&lt;chr&gt;</th><th scope=col>&lt;chr&gt;</th><th scope=col>&lt;dbl&gt;</th><th scope=col>&lt;dbl&gt;</th><th scope=col>&lt;dbl&gt;</th><th scope=col>&lt;dbl&gt;</th><th scope=col>&lt;chr&gt;</th><th scope=col>&lt;date&gt;</th><th scope=col>&lt;chr&gt;</th><th scope=col>&lt;chr&gt;</th><th scope=col>&lt;chr&gt;</th><th scope=col>&lt;chr&gt;</th></tr>\n",
       "</thead>\n",
       "<tbody>\n",
       "\t<tr><th scope=row>1</th><td>E19E6F1B8D4C42ED</td><td>electric_bike</td><td>2021-01-23 16:14:19</td><td>2021-01-23 16:24:44</td><td>California Ave &amp; Cortez St</td><td>17660</td><td></td><td></td><td>41.90034</td><td>-87.69674</td><td>41.89</td><td>-87.72</td><td>member</td><td>2021-01-23</td><td>Jan</td><td>23</td><td>2021</td><td>Saturday </td></tr>\n",
       "\t<tr><th scope=row>2</th><td>DC88F20C2C55F27F</td><td>electric_bike</td><td>2021-01-27 18:43:08</td><td>2021-01-27 18:47:12</td><td>California Ave &amp; Cortez St</td><td>17660</td><td></td><td></td><td>41.90033</td><td>-87.69671</td><td>41.90</td><td>-87.69</td><td>member</td><td>2021-01-27</td><td>Jan</td><td>27</td><td>2021</td><td>Wednesday</td></tr>\n",
       "\t<tr><th scope=row>3</th><td>EC45C94683FE3F27</td><td>electric_bike</td><td>2021-01-21 22:35:54</td><td>2021-01-21 22:37:14</td><td>California Ave &amp; Cortez St</td><td>17660</td><td></td><td></td><td>41.90031</td><td>-87.69664</td><td>41.90</td><td>-87.70</td><td>member</td><td>2021-01-21</td><td>Jan</td><td>21</td><td>2021</td><td>Thursday </td></tr>\n",
       "\t<tr><th scope=row>4</th><td>4FA453A75AE377DB</td><td>electric_bike</td><td>2021-01-07 13:31:13</td><td>2021-01-07 13:42:55</td><td>California Ave &amp; Cortez St</td><td>17660</td><td></td><td></td><td>41.90040</td><td>-87.69666</td><td>41.92</td><td>-87.69</td><td>member</td><td>2021-01-07</td><td>Jan</td><td>07</td><td>2021</td><td>Thursday </td></tr>\n",
       "\t<tr><th scope=row>5</th><td>BE5E8EB4E7263A0B</td><td>electric_bike</td><td>2021-01-23 02:24:02</td><td>2021-01-23 02:24:45</td><td>California Ave &amp; Cortez St</td><td>17660</td><td></td><td></td><td>41.90033</td><td>-87.69670</td><td>41.90</td><td>-87.70</td><td>casual</td><td>2021-01-23</td><td>Jan</td><td>23</td><td>2021</td><td>Saturday </td></tr>\n",
       "\t<tr><th scope=row>6</th><td>5D8969F88C773979</td><td>electric_bike</td><td>2021-01-09 14:24:07</td><td>2021-01-09 15:17:54</td><td>California Ave &amp; Cortez St</td><td>17660</td><td></td><td></td><td>41.90041</td><td>-87.69676</td><td>41.94</td><td>-87.71</td><td>casual</td><td>2021-01-09</td><td>Jan</td><td>09</td><td>2021</td><td>Saturday </td></tr>\n",
       "</tbody>\n",
       "</table>\n"
      ],
      "text/latex": [
       "A data.frame: 6 × 18\n",
       "\\begin{tabular}{r|llllllllllllllllll}\n",
       "  & ride\\_id & rideable\\_type & started\\_at & ended\\_at & start\\_station\\_name & start\\_station\\_id & end\\_station\\_name & end\\_station\\_id & start\\_lat & start\\_lng & end\\_lat & end\\_lng & member\\_casual & date & month & day & year & day\\_of\\_week\\\\\n",
       "  & <chr> & <chr> & <chr> & <chr> & <chr> & <chr> & <chr> & <chr> & <dbl> & <dbl> & <dbl> & <dbl> & <chr> & <date> & <chr> & <chr> & <chr> & <chr>\\\\\n",
       "\\hline\n",
       "\t1 & E19E6F1B8D4C42ED & electric\\_bike & 2021-01-23 16:14:19 & 2021-01-23 16:24:44 & California Ave \\& Cortez St & 17660 &  &  & 41.90034 & -87.69674 & 41.89 & -87.72 & member & 2021-01-23 & Jan & 23 & 2021 & Saturday \\\\\n",
       "\t2 & DC88F20C2C55F27F & electric\\_bike & 2021-01-27 18:43:08 & 2021-01-27 18:47:12 & California Ave \\& Cortez St & 17660 &  &  & 41.90033 & -87.69671 & 41.90 & -87.69 & member & 2021-01-27 & Jan & 27 & 2021 & Wednesday\\\\\n",
       "\t3 & EC45C94683FE3F27 & electric\\_bike & 2021-01-21 22:35:54 & 2021-01-21 22:37:14 & California Ave \\& Cortez St & 17660 &  &  & 41.90031 & -87.69664 & 41.90 & -87.70 & member & 2021-01-21 & Jan & 21 & 2021 & Thursday \\\\\n",
       "\t4 & 4FA453A75AE377DB & electric\\_bike & 2021-01-07 13:31:13 & 2021-01-07 13:42:55 & California Ave \\& Cortez St & 17660 &  &  & 41.90040 & -87.69666 & 41.92 & -87.69 & member & 2021-01-07 & Jan & 07 & 2021 & Thursday \\\\\n",
       "\t5 & BE5E8EB4E7263A0B & electric\\_bike & 2021-01-23 02:24:02 & 2021-01-23 02:24:45 & California Ave \\& Cortez St & 17660 &  &  & 41.90033 & -87.69670 & 41.90 & -87.70 & casual & 2021-01-23 & Jan & 23 & 2021 & Saturday \\\\\n",
       "\t6 & 5D8969F88C773979 & electric\\_bike & 2021-01-09 14:24:07 & 2021-01-09 15:17:54 & California Ave \\& Cortez St & 17660 &  &  & 41.90041 & -87.69676 & 41.94 & -87.71 & casual & 2021-01-09 & Jan & 09 & 2021 & Saturday \\\\\n",
       "\\end{tabular}\n"
      ],
      "text/markdown": [
       "\n",
       "A data.frame: 6 × 18\n",
       "\n",
       "| <!--/--> | ride_id &lt;chr&gt; | rideable_type &lt;chr&gt; | started_at &lt;chr&gt; | ended_at &lt;chr&gt; | start_station_name &lt;chr&gt; | start_station_id &lt;chr&gt; | end_station_name &lt;chr&gt; | end_station_id &lt;chr&gt; | start_lat &lt;dbl&gt; | start_lng &lt;dbl&gt; | end_lat &lt;dbl&gt; | end_lng &lt;dbl&gt; | member_casual &lt;chr&gt; | date &lt;date&gt; | month &lt;chr&gt; | day &lt;chr&gt; | year &lt;chr&gt; | day_of_week &lt;chr&gt; |\n",
       "|---|---|---|---|---|---|---|---|---|---|---|---|---|---|---|---|---|---|---|\n",
       "| 1 | E19E6F1B8D4C42ED | electric_bike | 2021-01-23 16:14:19 | 2021-01-23 16:24:44 | California Ave &amp; Cortez St | 17660 | <!----> | <!----> | 41.90034 | -87.69674 | 41.89 | -87.72 | member | 2021-01-23 | Jan | 23 | 2021 | Saturday  |\n",
       "| 2 | DC88F20C2C55F27F | electric_bike | 2021-01-27 18:43:08 | 2021-01-27 18:47:12 | California Ave &amp; Cortez St | 17660 | <!----> | <!----> | 41.90033 | -87.69671 | 41.90 | -87.69 | member | 2021-01-27 | Jan | 27 | 2021 | Wednesday |\n",
       "| 3 | EC45C94683FE3F27 | electric_bike | 2021-01-21 22:35:54 | 2021-01-21 22:37:14 | California Ave &amp; Cortez St | 17660 | <!----> | <!----> | 41.90031 | -87.69664 | 41.90 | -87.70 | member | 2021-01-21 | Jan | 21 | 2021 | Thursday  |\n",
       "| 4 | 4FA453A75AE377DB | electric_bike | 2021-01-07 13:31:13 | 2021-01-07 13:42:55 | California Ave &amp; Cortez St | 17660 | <!----> | <!----> | 41.90040 | -87.69666 | 41.92 | -87.69 | member | 2021-01-07 | Jan | 07 | 2021 | Thursday  |\n",
       "| 5 | BE5E8EB4E7263A0B | electric_bike | 2021-01-23 02:24:02 | 2021-01-23 02:24:45 | California Ave &amp; Cortez St | 17660 | <!----> | <!----> | 41.90033 | -87.69670 | 41.90 | -87.70 | casual | 2021-01-23 | Jan | 23 | 2021 | Saturday  |\n",
       "| 6 | 5D8969F88C773979 | electric_bike | 2021-01-09 14:24:07 | 2021-01-09 15:17:54 | California Ave &amp; Cortez St | 17660 | <!----> | <!----> | 41.90041 | -87.69676 | 41.94 | -87.71 | casual | 2021-01-09 | Jan | 09 | 2021 | Saturday  |\n",
       "\n"
      ],
      "text/plain": [
       "  ride_id          rideable_type started_at          ended_at           \n",
       "1 E19E6F1B8D4C42ED electric_bike 2021-01-23 16:14:19 2021-01-23 16:24:44\n",
       "2 DC88F20C2C55F27F electric_bike 2021-01-27 18:43:08 2021-01-27 18:47:12\n",
       "3 EC45C94683FE3F27 electric_bike 2021-01-21 22:35:54 2021-01-21 22:37:14\n",
       "4 4FA453A75AE377DB electric_bike 2021-01-07 13:31:13 2021-01-07 13:42:55\n",
       "5 BE5E8EB4E7263A0B electric_bike 2021-01-23 02:24:02 2021-01-23 02:24:45\n",
       "6 5D8969F88C773979 electric_bike 2021-01-09 14:24:07 2021-01-09 15:17:54\n",
       "  start_station_name         start_station_id end_station_name end_station_id\n",
       "1 California Ave & Cortez St 17660                                           \n",
       "2 California Ave & Cortez St 17660                                           \n",
       "3 California Ave & Cortez St 17660                                           \n",
       "4 California Ave & Cortez St 17660                                           \n",
       "5 California Ave & Cortez St 17660                                           \n",
       "6 California Ave & Cortez St 17660                                           \n",
       "  start_lat start_lng end_lat end_lng member_casual date       month day year\n",
       "1 41.90034  -87.69674 41.89   -87.72  member        2021-01-23 Jan   23  2021\n",
       "2 41.90033  -87.69671 41.90   -87.69  member        2021-01-27 Jan   27  2021\n",
       "3 41.90031  -87.69664 41.90   -87.70  member        2021-01-21 Jan   21  2021\n",
       "4 41.90040  -87.69666 41.92   -87.69  member        2021-01-07 Jan   07  2021\n",
       "5 41.90033  -87.69670 41.90   -87.70  casual        2021-01-23 Jan   23  2021\n",
       "6 41.90041  -87.69676 41.94   -87.71  casual        2021-01-09 Jan   09  2021\n",
       "  day_of_week\n",
       "1 Saturday   \n",
       "2 Wednesday  \n",
       "3 Thursday   \n",
       "4 Thursday   \n",
       "5 Saturday   \n",
       "6 Saturday   "
      ]
     },
     "metadata": {},
     "output_type": "display_data"
    }
   ],
   "source": [
    "head(tripdata_2021)"
   ]
  },
  {
   "cell_type": "code",
   "execution_count": 11,
   "id": "70502d21",
   "metadata": {},
   "outputs": [
    {
     "data": {
      "text/html": [
       "<style>\n",
       ".list-inline {list-style: none; margin:0; padding: 0}\n",
       ".list-inline>li {display: inline-block}\n",
       ".list-inline>li:not(:last-child)::after {content: \"\\00b7\"; padding: 0 .5ex}\n",
       "</style>\n",
       "<ol class=list-inline><li>5595063</li><li>18</li></ol>\n"
      ],
      "text/latex": [
       "\\begin{enumerate*}\n",
       "\\item 5595063\n",
       "\\item 18\n",
       "\\end{enumerate*}\n"
      ],
      "text/markdown": [
       "1. 5595063\n",
       "2. 18\n",
       "\n",
       "\n"
      ],
      "text/plain": [
       "[1] 5595063      18"
      ]
     },
     "metadata": {},
     "output_type": "display_data"
    }
   ],
   "source": [
    "dim(tripdata_2021)"
   ]
  },
  {
   "cell_type": "markdown",
   "id": "45416f53",
   "metadata": {},
   "source": [
    "#### Removing Null Values"
   ]
  },
  {
   "cell_type": "code",
   "execution_count": 12,
   "id": "5105f020",
   "metadata": {},
   "outputs": [],
   "source": [
    "tripdata_2021 <- drop_na(tripdata_2021)"
   ]
  },
  {
   "cell_type": "code",
   "execution_count": 13,
   "id": "3801755f",
   "metadata": {},
   "outputs": [
    {
     "name": "stdout",
     "output_type": "stream",
     "text": [
      "[1] \"Removed 0 duplicate rows\"\n"
     ]
    }
   ],
   "source": [
    "tripdata_2021_no_duplicates <- tripdata_2021[!duplicated(tripdata_2021$ride_id), ]\n",
    "print(paste(\"Removed\", nrow(tripdata_2021) - nrow(tripdata_2021_no_duplicates), \"duplicate rows\"))"
   ]
  },
  {
   "cell_type": "markdown",
   "id": "a179615e",
   "metadata": {},
   "source": [
    "##### Data manipulation"
   ]
  },
  {
   "cell_type": "code",
   "execution_count": 14,
   "id": "0b03dcb6",
   "metadata": {},
   "outputs": [
    {
     "name": "stdout",
     "output_type": "stream",
     "text": [
      "'data.frame':\t5590292 obs. of  19 variables:\n",
      " $ ride_id           : chr  \"E19E6F1B8D4C42ED\" \"DC88F20C2C55F27F\" \"EC45C94683FE3F27\" \"4FA453A75AE377DB\" ...\n",
      " $ rideable_type     : chr  \"electric_bike\" \"electric_bike\" \"electric_bike\" \"electric_bike\" ...\n",
      " $ started_at        : chr  \"2021-01-23 16:14:19\" \"2021-01-27 18:43:08\" \"2021-01-21 22:35:54\" \"2021-01-07 13:31:13\" ...\n",
      " $ ended_at          : chr  \"2021-01-23 16:24:44\" \"2021-01-27 18:47:12\" \"2021-01-21 22:37:14\" \"2021-01-07 13:42:55\" ...\n",
      " $ start_station_name: chr  \"California Ave & Cortez St\" \"California Ave & Cortez St\" \"California Ave & Cortez St\" \"California Ave & Cortez St\" ...\n",
      " $ start_station_id  : chr  \"17660\" \"17660\" \"17660\" \"17660\" ...\n",
      " $ end_station_name  : chr  \"\" \"\" \"\" \"\" ...\n",
      " $ end_station_id    : chr  \"\" \"\" \"\" \"\" ...\n",
      " $ start_lat         : num  41.9 41.9 41.9 41.9 41.9 ...\n",
      " $ start_lng         : num  -87.7 -87.7 -87.7 -87.7 -87.7 ...\n",
      " $ end_lat           : num  41.9 41.9 41.9 41.9 41.9 ...\n",
      " $ end_lng           : num  -87.7 -87.7 -87.7 -87.7 -87.7 ...\n",
      " $ member_casual     : chr  \"member\" \"member\" \"member\" \"member\" ...\n",
      " $ date              : Date, format: \"2021-01-23\" \"2021-01-27\" ...\n",
      " $ month             : chr  \"Jan\" \"Jan\" \"Jan\" \"Jan\" ...\n",
      " $ day               : chr  \"23\" \"27\" \"21\" \"07\" ...\n",
      " $ year              : chr  \"2021\" \"2021\" \"2021\" \"2021\" ...\n",
      " $ day_of_week       : chr  \"Saturday\" \"Wednesday\" \"Thursday\" \"Thursday\" ...\n",
      " $ ride_length       : 'difftime' num  10.4166666666667 4.06666666666667 1.33333333333333 11.7 ...\n",
      "  ..- attr(*, \"units\")= chr \"mins\"\n"
     ]
    }
   ],
   "source": [
    "## Creating a column to determine the ride length \n",
    "tripdata_2021_v2 <- mutate(tripdata_2021_no_duplicates, ride_length = difftime(ended_at, started_at, units = \"mins\"))\n",
    "str(tripdata_2021_v2)"
   ]
  },
  {
   "cell_type": "code",
   "execution_count": 15,
   "id": "710f05d0",
   "metadata": {},
   "outputs": [
    {
     "data": {
      "text/html": [
       "146"
      ],
      "text/latex": [
       "146"
      ],
      "text/markdown": [
       "146"
      ],
      "text/plain": [
       "[1] 146"
      ]
     },
     "metadata": {},
     "output_type": "display_data"
    },
    {
     "name": "stdout",
     "output_type": "stream",
     "text": [
      "Rows: 5,590,146\n",
      "Columns: 19\n",
      "$ ride_id            \u001b[3m\u001b[90m<chr>\u001b[39m\u001b[23m \"E19E6F1B8D4C42ED\", \"DC88F20C2C55F27F\", \"EC45C94683…\n",
      "$ rideable_type      \u001b[3m\u001b[90m<chr>\u001b[39m\u001b[23m \"electric_bike\", \"electric_bike\", \"electric_bike\", …\n",
      "$ started_at         \u001b[3m\u001b[90m<chr>\u001b[39m\u001b[23m \"2021-01-23 16:14:19\", \"2021-01-27 18:43:08\", \"2021…\n",
      "$ ended_at           \u001b[3m\u001b[90m<chr>\u001b[39m\u001b[23m \"2021-01-23 16:24:44\", \"2021-01-27 18:47:12\", \"2021…\n",
      "$ start_station_name \u001b[3m\u001b[90m<chr>\u001b[39m\u001b[23m \"California Ave & Cortez St\", \"California Ave & Cor…\n",
      "$ start_station_id   \u001b[3m\u001b[90m<chr>\u001b[39m\u001b[23m \"17660\", \"17660\", \"17660\", \"17660\", \"17660\", \"17660…\n",
      "$ end_station_name   \u001b[3m\u001b[90m<chr>\u001b[39m\u001b[23m \"\", \"\", \"\", \"\", \"\", \"\", \"\", \"\", \"\", \"Wood St & Augu…\n",
      "$ end_station_id     \u001b[3m\u001b[90m<chr>\u001b[39m\u001b[23m \"\", \"\", \"\", \"\", \"\", \"\", \"\", \"\", \"\", \"657\", \"13258\",…\n",
      "$ start_lat          \u001b[3m\u001b[90m<dbl>\u001b[39m\u001b[23m 41.90034, 41.90033, 41.90031, 41.90040, 41.90033, 4…\n",
      "$ start_lng          \u001b[3m\u001b[90m<dbl>\u001b[39m\u001b[23m -87.69674, -87.69671, -87.69664, -87.69666, -87.696…\n",
      "$ end_lat            \u001b[3m\u001b[90m<dbl>\u001b[39m\u001b[23m 41.89000, 41.90000, 41.90000, 41.92000, 41.90000, 4…\n",
      "$ end_lng            \u001b[3m\u001b[90m<dbl>\u001b[39m\u001b[23m -87.72000, -87.69000, -87.70000, -87.69000, -87.700…\n",
      "$ member_casual      \u001b[3m\u001b[90m<chr>\u001b[39m\u001b[23m \"member\", \"member\", \"member\", \"member\", \"casual\", \"…\n",
      "$ date               \u001b[3m\u001b[90m<date>\u001b[39m\u001b[23m 2021-01-23, 2021-01-27, 2021-01-21, 2021-01-07, 20…\n",
      "$ month              \u001b[3m\u001b[90m<chr>\u001b[39m\u001b[23m \"Jan\", \"Jan\", \"Jan\", \"Jan\", \"Jan\", \"Jan\", \"Jan\", \"J…\n",
      "$ day                \u001b[3m\u001b[90m<chr>\u001b[39m\u001b[23m \"23\", \"27\", \"21\", \"07\", \"23\", \"09\", \"04\", \"14\", \"09…\n",
      "$ year               \u001b[3m\u001b[90m<chr>\u001b[39m\u001b[23m \"2021\", \"2021\", \"2021\", \"2021\", \"2021\", \"2021\", \"20…\n",
      "$ day_of_week        \u001b[3m\u001b[90m<chr>\u001b[39m\u001b[23m \"Saturday\", \"Wednesday\", \"Thursday\", \"Thursday\", \"S…\n",
      "$ ride_length        \u001b[3m\u001b[90m<drtn>\u001b[39m\u001b[23m 10.4166667 mins, 4.0666667 mins, 1.3333333 mins, 1…\n"
     ]
    }
   ],
   "source": [
    "## filtering out trips with a ride length less than 0.\n",
    "\n",
    "nrow(tripdata_2021_v2[tripdata_2021_v2$ride_length < 0,])\n",
    "tripdata_2021_v3 <- tripdata_2021_v2[!tripdata_2021_v2$ride_length <0,]\n",
    "glimpse(tripdata_2021_v3)"
   ]
  },
  {
   "cell_type": "code",
   "execution_count": 16,
   "id": "c3f0e566",
   "metadata": {},
   "outputs": [
    {
     "data": {
      "text/plain": [
       "\n",
       " casual  member \n",
       "2525456 3064690 "
      ]
     },
     "metadata": {},
     "output_type": "display_data"
    }
   ],
   "source": [
    "## determining the amount of members vs casual riders\n",
    "\n",
    "rider_type_total <- table(tripdata_2021_v3$member_casual)\n",
    "View(rider_type_total)"
   ]
  },
  {
   "cell_type": "code",
   "execution_count": 17,
   "id": "13732f68",
   "metadata": {},
   "outputs": [
    {
     "data": {
      "text/html": [
       "<table class=\"dataframe\">\n",
       "<caption>A tibble: 2 × 6</caption>\n",
       "<thead>\n",
       "\t<tr><th scope=col>member_casual</th><th scope=col>average_ride_length</th><th scope=col>standard_deviation</th><th scope=col>median_ride_length</th><th scope=col>min_ride_length</th><th scope=col>max_ride_length</th></tr>\n",
       "\t<tr><th scope=col>&lt;chr&gt;</th><th scope=col>&lt;drtn&gt;</th><th scope=col>&lt;dbl&gt;</th><th scope=col>&lt;drtn&gt;</th><th scope=col>&lt;drtn&gt;</th><th scope=col>&lt;drtn&gt;</th></tr>\n",
       "</thead>\n",
       "<tbody>\n",
       "\t<tr><td>casual</td><td>30.23803 mins</td><td>248.15270</td><td>15.95 mins</td><td>0 mins</td><td>55944.150 mins</td></tr>\n",
       "\t<tr><td>member</td><td>13.35480 mins</td><td> 20.03945</td><td> 9.60 mins</td><td>0 mins</td><td> 1499.933 mins</td></tr>\n",
       "</tbody>\n",
       "</table>\n"
      ],
      "text/latex": [
       "A tibble: 2 × 6\n",
       "\\begin{tabular}{llllll}\n",
       " member\\_casual & average\\_ride\\_length & standard\\_deviation & median\\_ride\\_length & min\\_ride\\_length & max\\_ride\\_length\\\\\n",
       " <chr> & <drtn> & <dbl> & <drtn> & <drtn> & <drtn>\\\\\n",
       "\\hline\n",
       "\t casual & 30.23803 mins & 248.15270 & 15.95 mins & 0 mins & 55944.150 mins\\\\\n",
       "\t member & 13.35480 mins &  20.03945 &  9.60 mins & 0 mins &  1499.933 mins\\\\\n",
       "\\end{tabular}\n"
      ],
      "text/markdown": [
       "\n",
       "A tibble: 2 × 6\n",
       "\n",
       "| member_casual &lt;chr&gt; | average_ride_length &lt;drtn&gt; | standard_deviation &lt;dbl&gt; | median_ride_length &lt;drtn&gt; | min_ride_length &lt;drtn&gt; | max_ride_length &lt;drtn&gt; |\n",
       "|---|---|---|---|---|---|\n",
       "| casual | 30.23803 mins | 248.15270 | 15.95 mins | 0 mins | 55944.150 mins |\n",
       "| member | 13.35480 mins |  20.03945 |  9.60 mins | 0 mins |  1499.933 mins |\n",
       "\n"
      ],
      "text/plain": [
       "  member_casual average_ride_length standard_deviation median_ride_length\n",
       "1 casual        30.23803 mins       248.15270          15.95 mins        \n",
       "2 member        13.35480 mins        20.03945           9.60 mins        \n",
       "  min_ride_length max_ride_length\n",
       "1 0 mins          55944.150 mins \n",
       "2 0 mins           1499.933 mins "
      ]
     },
     "metadata": {},
     "output_type": "display_data"
    }
   ],
   "source": [
    "## Statistical analysis\n",
    "trip_stats <- tripdata_2021_v3 %>% \n",
    "  group_by(member_casual) %>% \n",
    "  summarise(average_ride_length = mean(ride_length), standard_deviation = sd(ride_length), median_ride_length = median(ride_length), min_ride_length = min(ride_length), max_ride_length = max(ride_length))\n",
    "head(trip_stats)"
   ]
  },
  {
   "cell_type": "code",
   "execution_count": 18,
   "id": "4c65328b",
   "metadata": {},
   "outputs": [
    {
     "name": "stdout",
     "output_type": "stream",
     "text": [
      "[1] \"Saturday\"\n"
     ]
    }
   ],
   "source": [
    "## Determine mode for the day of the week \n",
    "\n",
    "getmode <- function(v) {\n",
    "  uniqv <- unique(v)\n",
    "  uniqv[which.max(tabulate(match(v, uniqv)))]\n",
    "}\n",
    "\n",
    "weekday_mode <- getmode(tripdata_2021_v3$day_of_week)\n",
    "\n",
    "print(weekday_mode)"
   ]
  },
  {
   "cell_type": "code",
   "execution_count": 19,
   "id": "753f4d68",
   "metadata": {},
   "outputs": [
    {
     "name": "stderr",
     "output_type": "stream",
     "text": [
      "\u001b[1m\u001b[22m`summarise()` has grouped output by 'member_casual'. You can override using the `.groups` argument.\n"
     ]
    },
    {
     "data": {
      "text/html": [
       "<table class=\"dataframe\">\n",
       "<caption>A grouped_df: 14 × 4</caption>\n",
       "<thead>\n",
       "\t<tr><th scope=col>member_casual</th><th scope=col>day_of_week</th><th scope=col>rider_type_total</th><th scope=col>average_ride_length</th></tr>\n",
       "\t<tr><th scope=col>&lt;chr&gt;</th><th scope=col>&lt;ord&gt;</th><th scope=col>&lt;int&gt;</th><th scope=col>&lt;drtn&gt;</th></tr>\n",
       "</thead>\n",
       "<tbody>\n",
       "\t<tr><td>casual</td><td>Monday   </td><td>285992</td><td>30.28512 mins</td></tr>\n",
       "\t<tr><td>casual</td><td>Tuesday  </td><td>274059</td><td>26.71355 mins</td></tr>\n",
       "\t<tr><td>casual</td><td>Wednesday</td><td>278616</td><td>26.22802 mins</td></tr>\n",
       "\t<tr><td>casual</td><td>Thursday </td><td>285672</td><td>26.04953 mins</td></tr>\n",
       "\t<tr><td>casual</td><td>Friday   </td><td>363580</td><td>28.60904 mins</td></tr>\n",
       "\t<tr><td>casual</td><td>Saturday </td><td>557181</td><td>32.77079 mins</td></tr>\n",
       "\t<tr><td>casual</td><td>Sunday   </td><td>480356</td><td>35.33280 mins</td></tr>\n",
       "\t<tr><td>member</td><td>Monday   </td><td>416018</td><td>12.94166 mins</td></tr>\n",
       "\t<tr><td>member</td><td>Tuesday  </td><td>465347</td><td>12.57079 mins</td></tr>\n",
       "\t<tr><td>member</td><td>Wednesday</td><td>477000</td><td>12.62713 mins</td></tr>\n",
       "\t<tr><td>member</td><td>Thursday </td><td>451346</td><td>12.52743 mins</td></tr>\n",
       "\t<tr><td>member</td><td>Friday   </td><td>446219</td><td>13.05208 mins</td></tr>\n",
       "\t<tr><td>member</td><td>Saturday </td><td>432835</td><td>14.92358 mins</td></tr>\n",
       "\t<tr><td>member</td><td>Sunday   </td><td>375925</td><td>15.25226 mins</td></tr>\n",
       "</tbody>\n",
       "</table>\n"
      ],
      "text/latex": [
       "A grouped\\_df: 14 × 4\n",
       "\\begin{tabular}{llll}\n",
       " member\\_casual & day\\_of\\_week & rider\\_type\\_total & average\\_ride\\_length\\\\\n",
       " <chr> & <ord> & <int> & <drtn>\\\\\n",
       "\\hline\n",
       "\t casual & Monday    & 285992 & 30.28512 mins\\\\\n",
       "\t casual & Tuesday   & 274059 & 26.71355 mins\\\\\n",
       "\t casual & Wednesday & 278616 & 26.22802 mins\\\\\n",
       "\t casual & Thursday  & 285672 & 26.04953 mins\\\\\n",
       "\t casual & Friday    & 363580 & 28.60904 mins\\\\\n",
       "\t casual & Saturday  & 557181 & 32.77079 mins\\\\\n",
       "\t casual & Sunday    & 480356 & 35.33280 mins\\\\\n",
       "\t member & Monday    & 416018 & 12.94166 mins\\\\\n",
       "\t member & Tuesday   & 465347 & 12.57079 mins\\\\\n",
       "\t member & Wednesday & 477000 & 12.62713 mins\\\\\n",
       "\t member & Thursday  & 451346 & 12.52743 mins\\\\\n",
       "\t member & Friday    & 446219 & 13.05208 mins\\\\\n",
       "\t member & Saturday  & 432835 & 14.92358 mins\\\\\n",
       "\t member & Sunday    & 375925 & 15.25226 mins\\\\\n",
       "\\end{tabular}\n"
      ],
      "text/markdown": [
       "\n",
       "A grouped_df: 14 × 4\n",
       "\n",
       "| member_casual &lt;chr&gt; | day_of_week &lt;ord&gt; | rider_type_total &lt;int&gt; | average_ride_length &lt;drtn&gt; |\n",
       "|---|---|---|---|\n",
       "| casual | Monday    | 285992 | 30.28512 mins |\n",
       "| casual | Tuesday   | 274059 | 26.71355 mins |\n",
       "| casual | Wednesday | 278616 | 26.22802 mins |\n",
       "| casual | Thursday  | 285672 | 26.04953 mins |\n",
       "| casual | Friday    | 363580 | 28.60904 mins |\n",
       "| casual | Saturday  | 557181 | 32.77079 mins |\n",
       "| casual | Sunday    | 480356 | 35.33280 mins |\n",
       "| member | Monday    | 416018 | 12.94166 mins |\n",
       "| member | Tuesday   | 465347 | 12.57079 mins |\n",
       "| member | Wednesday | 477000 | 12.62713 mins |\n",
       "| member | Thursday  | 451346 | 12.52743 mins |\n",
       "| member | Friday    | 446219 | 13.05208 mins |\n",
       "| member | Saturday  | 432835 | 14.92358 mins |\n",
       "| member | Sunday    | 375925 | 15.25226 mins |\n",
       "\n"
      ],
      "text/plain": [
       "   member_casual day_of_week rider_type_total average_ride_length\n",
       "1  casual        Monday      285992           30.28512 mins      \n",
       "2  casual        Tuesday     274059           26.71355 mins      \n",
       "3  casual        Wednesday   278616           26.22802 mins      \n",
       "4  casual        Thursday    285672           26.04953 mins      \n",
       "5  casual        Friday      363580           28.60904 mins      \n",
       "6  casual        Saturday    557181           32.77079 mins      \n",
       "7  casual        Sunday      480356           35.33280 mins      \n",
       "8  member        Monday      416018           12.94166 mins      \n",
       "9  member        Tuesday     465347           12.57079 mins      \n",
       "10 member        Wednesday   477000           12.62713 mins      \n",
       "11 member        Thursday    451346           12.52743 mins      \n",
       "12 member        Friday      446219           13.05208 mins      \n",
       "13 member        Saturday    432835           14.92358 mins      \n",
       "14 member        Sunday      375925           15.25226 mins      "
      ]
     },
     "metadata": {},
     "output_type": "display_data"
    }
   ],
   "source": [
    "## Determining the most popular day by rider type\n",
    "\n",
    "tripdata_2021_v3$day_of_week <- ordered(tripdata_2021_v3$day_of_week, levels = c(\"Monday\", \"Tuesday\", \"Wednesday\", \"Thursday\", \"Friday\", \"Saturday\", \"Sunday\"))\n",
    "\n",
    "tripdata_2021_v3 %>% \n",
    "  group_by(member_casual, day_of_week) %>% \n",
    "  summarise(rider_type_total = n(), average_ride_length = mean(ride_length)) %>% \n",
    "  arrange(member_casual, day_of_week)"
   ]
  },
  {
   "cell_type": "code",
   "execution_count": 20,
   "id": "2790d675",
   "metadata": {},
   "outputs": [
    {
     "name": "stdout",
     "output_type": "stream",
     "text": [
      "[1] \"Jul\"\n"
     ]
    }
   ],
   "source": [
    "month_mode <- getmode(tripdata_2021_v3$month)\n",
    "\n",
    "print(month_mode)"
   ]
  },
  {
   "cell_type": "code",
   "execution_count": 21,
   "id": "5e25eaab",
   "metadata": {},
   "outputs": [
    {
     "data": {
      "text/html": [
       "<table class=\"dataframe\">\n",
       "<caption>A tibble: 12 × 3</caption>\n",
       "<thead>\n",
       "\t<tr><th scope=col>month</th><th scope=col>number_of_rides</th><th scope=col>average_duration</th></tr>\n",
       "\t<tr><th scope=col>&lt;chr&gt;</th><th scope=col>&lt;int&gt;</th><th scope=col>&lt;drtn&gt;</th></tr>\n",
       "</thead>\n",
       "<tbody>\n",
       "\t<tr><td>Jul</td><td>821666</td><td>23.37056 mins</td></tr>\n",
       "\t<tr><td>Aug</td><td>803617</td><td>20.79902 mins</td></tr>\n",
       "\t<tr><td>Sep</td><td>755516</td><td>19.82593 mins</td></tr>\n",
       "\t<tr><td>Jun</td><td>728873</td><td>25.15844 mins</td></tr>\n",
       "\t<tr><td>Oct</td><td>630742</td><td>17.10959 mins</td></tr>\n",
       "\t<tr><td>May</td><td>531179</td><td>25.31856 mins</td></tr>\n",
       "\t<tr><td>Nov</td><td>359734</td><td>13.75868 mins</td></tr>\n",
       "\t<tr><td>Apr</td><td>336958</td><td>23.42334 mins</td></tr>\n",
       "\t<tr><td>Dec</td><td>247396</td><td>13.77642 mins</td></tr>\n",
       "\t<tr><td>Mar</td><td>228327</td><td>22.27931 mins</td></tr>\n",
       "\t<tr><td>Jan</td><td> 96730</td><td>14.73399 mins</td></tr>\n",
       "\t<tr><td>Feb</td><td> 49408</td><td>21.38927 mins</td></tr>\n",
       "</tbody>\n",
       "</table>\n"
      ],
      "text/latex": [
       "A tibble: 12 × 3\n",
       "\\begin{tabular}{lll}\n",
       " month & number\\_of\\_rides & average\\_duration\\\\\n",
       " <chr> & <int> & <drtn>\\\\\n",
       "\\hline\n",
       "\t Jul & 821666 & 23.37056 mins\\\\\n",
       "\t Aug & 803617 & 20.79902 mins\\\\\n",
       "\t Sep & 755516 & 19.82593 mins\\\\\n",
       "\t Jun & 728873 & 25.15844 mins\\\\\n",
       "\t Oct & 630742 & 17.10959 mins\\\\\n",
       "\t May & 531179 & 25.31856 mins\\\\\n",
       "\t Nov & 359734 & 13.75868 mins\\\\\n",
       "\t Apr & 336958 & 23.42334 mins\\\\\n",
       "\t Dec & 247396 & 13.77642 mins\\\\\n",
       "\t Mar & 228327 & 22.27931 mins\\\\\n",
       "\t Jan &  96730 & 14.73399 mins\\\\\n",
       "\t Feb &  49408 & 21.38927 mins\\\\\n",
       "\\end{tabular}\n"
      ],
      "text/markdown": [
       "\n",
       "A tibble: 12 × 3\n",
       "\n",
       "| month &lt;chr&gt; | number_of_rides &lt;int&gt; | average_duration &lt;drtn&gt; |\n",
       "|---|---|---|\n",
       "| Jul | 821666 | 23.37056 mins |\n",
       "| Aug | 803617 | 20.79902 mins |\n",
       "| Sep | 755516 | 19.82593 mins |\n",
       "| Jun | 728873 | 25.15844 mins |\n",
       "| Oct | 630742 | 17.10959 mins |\n",
       "| May | 531179 | 25.31856 mins |\n",
       "| Nov | 359734 | 13.75868 mins |\n",
       "| Apr | 336958 | 23.42334 mins |\n",
       "| Dec | 247396 | 13.77642 mins |\n",
       "| Mar | 228327 | 22.27931 mins |\n",
       "| Jan |  96730 | 14.73399 mins |\n",
       "| Feb |  49408 | 21.38927 mins |\n",
       "\n"
      ],
      "text/plain": [
       "   month number_of_rides average_duration\n",
       "1  Jul   821666          23.37056 mins   \n",
       "2  Aug   803617          20.79902 mins   \n",
       "3  Sep   755516          19.82593 mins   \n",
       "4  Jun   728873          25.15844 mins   \n",
       "5  Oct   630742          17.10959 mins   \n",
       "6  May   531179          25.31856 mins   \n",
       "7  Nov   359734          13.75868 mins   \n",
       "8  Apr   336958          23.42334 mins   \n",
       "9  Dec   247396          13.77642 mins   \n",
       "10 Mar   228327          22.27931 mins   \n",
       "11 Jan    96730          14.73399 mins   \n",
       "12 Feb    49408          21.38927 mins   "
      ]
     },
     "metadata": {},
     "output_type": "display_data"
    }
   ],
   "source": [
    "popular_month <- tripdata_2021_v3 %>% \n",
    "  group_by(month) %>% \n",
    "  summarise(number_of_rides = n(), average_duration = mean(ride_length)) %>% \n",
    "  arrange(-number_of_rides)\n",
    "\n",
    "View(popular_month)"
   ]
  },
  {
   "cell_type": "code",
   "execution_count": 22,
   "id": "84b084f6",
   "metadata": {},
   "outputs": [
    {
     "data": {
      "text/html": [
       "<table class=\"dataframe\">\n",
       "<caption>A tibble: 6 × 2</caption>\n",
       "<thead>\n",
       "\t<tr><th scope=col>start_station_name</th><th scope=col>number_of_starts</th></tr>\n",
       "\t<tr><th scope=col>&lt;chr&gt;</th><th scope=col>&lt;int&gt;</th></tr>\n",
       "</thead>\n",
       "<tbody>\n",
       "\t<tr><td>Streeter Dr &amp; Grand Ave</td><td>66274</td></tr>\n",
       "\t<tr><td>Millennium Park        </td><td>33510</td></tr>\n",
       "\t<tr><td><span style=white-space:pre-wrap>Michigan Ave &amp; Oak St  </span></td><td>29748</td></tr>\n",
       "\t<tr><td>Shedd Aquarium         </td><td>23222</td></tr>\n",
       "\t<tr><td>Theater on the Lake    </td><td>21324</td></tr>\n",
       "\t<tr><td><span style=white-space:pre-wrap>Wells St &amp; Concord Ln  </span></td><td>19877</td></tr>\n",
       "</tbody>\n",
       "</table>\n"
      ],
      "text/latex": [
       "A tibble: 6 × 2\n",
       "\\begin{tabular}{ll}\n",
       " start\\_station\\_name & number\\_of\\_starts\\\\\n",
       " <chr> & <int>\\\\\n",
       "\\hline\n",
       "\t Streeter Dr \\& Grand Ave & 66274\\\\\n",
       "\t Millennium Park         & 33510\\\\\n",
       "\t Michigan Ave \\& Oak St   & 29748\\\\\n",
       "\t Shedd Aquarium          & 23222\\\\\n",
       "\t Theater on the Lake     & 21324\\\\\n",
       "\t Wells St \\& Concord Ln   & 19877\\\\\n",
       "\\end{tabular}\n"
      ],
      "text/markdown": [
       "\n",
       "A tibble: 6 × 2\n",
       "\n",
       "| start_station_name &lt;chr&gt; | number_of_starts &lt;int&gt; |\n",
       "|---|---|\n",
       "| Streeter Dr &amp; Grand Ave | 66274 |\n",
       "| Millennium Park         | 33510 |\n",
       "| Michigan Ave &amp; Oak St   | 29748 |\n",
       "| Shedd Aquarium          | 23222 |\n",
       "| Theater on the Lake     | 21324 |\n",
       "| Wells St &amp; Concord Ln   | 19877 |\n",
       "\n"
      ],
      "text/plain": [
       "  start_station_name      number_of_starts\n",
       "1 Streeter Dr & Grand Ave 66274           \n",
       "2 Millennium Park         33510           \n",
       "3 Michigan Ave & Oak St   29748           \n",
       "4 Shedd Aquarium          23222           \n",
       "5 Theater on the Lake     21324           \n",
       "6 Wells St & Concord Ln   19877           "
      ]
     },
     "metadata": {},
     "output_type": "display_data"
    }
   ],
   "source": [
    "## Determine the most popular start station for casual riders\n",
    "popular_start_stations_casual <- tripdata_2021_v3 %>% \n",
    "  filter(member_casual == 'casual') %>% \n",
    "  group_by(start_station_name) %>% \n",
    "  summarise(number_of_starts = n()) %>% \n",
    "  filter(start_station_name != \"\") %>% \n",
    "  arrange(- number_of_starts)\n",
    "\n",
    "head(popular_start_stations_casual)"
   ]
  },
  {
   "cell_type": "code",
   "execution_count": 23,
   "id": "9d51ac65",
   "metadata": {},
   "outputs": [
    {
     "data": {
      "text/html": [
       "<table class=\"dataframe\">\n",
       "<caption>A tibble: 6 × 2</caption>\n",
       "<thead>\n",
       "\t<tr><th scope=col>start_station_name</th><th scope=col>number_of_starts</th></tr>\n",
       "\t<tr><th scope=col>&lt;chr&gt;</th><th scope=col>&lt;int&gt;</th></tr>\n",
       "</thead>\n",
       "<tbody>\n",
       "\t<tr><td><span style=white-space:pre-wrap>Clark St &amp; Elm St       </span></td><td>24729</td></tr>\n",
       "\t<tr><td><span style=white-space:pre-wrap>Wells St &amp; Concord Ln   </span></td><td>23709</td></tr>\n",
       "\t<tr><td>Kingsbury St &amp; Kinzie St</td><td>23554</td></tr>\n",
       "\t<tr><td><span style=white-space:pre-wrap>Wells St &amp; Elm St       </span></td><td>21017</td></tr>\n",
       "\t<tr><td><span style=white-space:pre-wrap>Dearborn St &amp; Erie St   </span></td><td>19579</td></tr>\n",
       "\t<tr><td><span style=white-space:pre-wrap>Wells St &amp; Huron St     </span></td><td>19186</td></tr>\n",
       "</tbody>\n",
       "</table>\n"
      ],
      "text/latex": [
       "A tibble: 6 × 2\n",
       "\\begin{tabular}{ll}\n",
       " start\\_station\\_name & number\\_of\\_starts\\\\\n",
       " <chr> & <int>\\\\\n",
       "\\hline\n",
       "\t Clark St \\& Elm St        & 24729\\\\\n",
       "\t Wells St \\& Concord Ln    & 23709\\\\\n",
       "\t Kingsbury St \\& Kinzie St & 23554\\\\\n",
       "\t Wells St \\& Elm St        & 21017\\\\\n",
       "\t Dearborn St \\& Erie St    & 19579\\\\\n",
       "\t Wells St \\& Huron St      & 19186\\\\\n",
       "\\end{tabular}\n"
      ],
      "text/markdown": [
       "\n",
       "A tibble: 6 × 2\n",
       "\n",
       "| start_station_name &lt;chr&gt; | number_of_starts &lt;int&gt; |\n",
       "|---|---|\n",
       "| Clark St &amp; Elm St        | 24729 |\n",
       "| Wells St &amp; Concord Ln    | 23709 |\n",
       "| Kingsbury St &amp; Kinzie St | 23554 |\n",
       "| Wells St &amp; Elm St        | 21017 |\n",
       "| Dearborn St &amp; Erie St    | 19579 |\n",
       "| Wells St &amp; Huron St      | 19186 |\n",
       "\n"
      ],
      "text/plain": [
       "  start_station_name       number_of_starts\n",
       "1 Clark St & Elm St        24729           \n",
       "2 Wells St & Concord Ln    23709           \n",
       "3 Kingsbury St & Kinzie St 23554           \n",
       "4 Wells St & Elm St        21017           \n",
       "5 Dearborn St & Erie St    19579           \n",
       "6 Wells St & Huron St      19186           "
      ]
     },
     "metadata": {},
     "output_type": "display_data"
    }
   ],
   "source": [
    "## Determine the most popular start station for members\n",
    "\n",
    "popular_start_stations_member <- tripdata_2021_v3 %>% \n",
    "  filter(member_casual == 'member') %>% \n",
    "  group_by(start_station_name) %>% \n",
    "  summarise(number_of_starts = n()) %>% \n",
    "  filter(start_station_name != \"\") %>% \n",
    "  arrange(- number_of_starts)\n",
    "\n",
    "head(popular_start_stations_member)"
   ]
  },
  {
   "cell_type": "markdown",
   "id": "a8fabb46",
   "metadata": {},
   "source": [
    "#### From the analysis we can determine that\n",
    "\n",
    "1. In 2021, there will be more regular members (3064690) than casual riders (2525456).\n",
    "\n",
    "2. Casual riders (30.23 min) had a higher average ride length than members (13.35 min).\n",
    "\n",
    "3. Casual riders had the longest ride time of 5594.150 minutes, or 932 hours.\n",
    "\n",
    "4. Saturday was the most popular day for renting bikes.\n",
    "\n",
    "5. Saturday was the most popular day for casual riders, with an average ride length of 32.77 minutes.\n",
    "\n",
    "6. Wednesday was the most popular day for members, with a ride length of 12.62 minutes on average.\n",
    "\n",
    "7. July was the highest month, with 821666 rides and an average ride duration of 23.37056 minutes.\n",
    "\n",
    "8. February was the least popular month, with 49408 rides and an average ride time of 21.38 minutes.\n",
    "\n",
    "9. \"Streeter Dr & Grand Ave\" was the most popular overall start station.\n",
    "\n",
    "10. \"Clark St & Elm St\" was the most popular start point for members, with 24729 trips starting here."
   ]
  },
  {
   "cell_type": "markdown",
   "id": "ff499d07",
   "metadata": {},
   "source": [
    "### Share"
   ]
  },
  {
   "cell_type": "markdown",
   "id": "1eb9bd18",
   "metadata": {},
   "source": [
    "#### Guiding questions\n",
    "\n",
    "1. Were you able to answer the question of how annual members and casual riders use Cyclistic bikes differently?\n",
    "\n",
    "    Yes, we were convinced that there are significant differences between casual riders and annual members. \n",
    "\n",
    "2. What story does your data tell?\n",
    "\n",
    "    According to the data, there are a large number of casual riders who have a longer average ride duration. That is great news as a potential target for the digital marketing campaign.\n",
    "\n",
    "3. How do your findings relate to your original question?\n",
    "\n",
    "    The data answered all the original questions.\n",
    "    \n",
    "    1. How do annual members and casual riders use Cyclistic bikes differently?\n",
    "\n",
    "    We were able to identify a number of differences between the two groups using the data.\n",
    "    2. Why would casual riders buy Cyclistic annual memberships?\n",
    "\n",
    "    Casual members can buy the annual membership as they on average use the bikes for longer than members, and the longest individual ride was also by a casual member.\n",
    "    3. How can Cyclistic use digital media to influence casual riders to become members\n",
    "    A digital marketing campaign highlighting the advantages of a membership are targeted at the recreational rider who uses the bikes regularly.\n",
    "\n",
    "4. Who is your audience? What is the best way to communicate with them?\n",
    "\n",
    "    My target audience consists of the previously defined important stakeholders. Lily Moreno and the Cyclic Marketing Analytics team are their names.\n",
    "\n",
    "5. Can data visualization help you share your findings?\n",
    "\n",
    "    Definitely, data visualisation can help to give a clear representation of the data and the differences between the two groups, and this can also help stakeholders quickly and easily understand the analysis.\n",
    "\n",
    "6. Is your presentation accessible to your audience?\n",
    "\n",
    "    No this presentation, it is not available for audition, but it can be provided if requested. notebook with the analysis is however accessible."
   ]
  },
  {
   "cell_type": "markdown",
   "id": "e11dc6da",
   "metadata": {},
   "source": [
    "#### Key tasks\n",
    "Determine the best way to share your findings. - Completed\n",
    "\n",
    "Create effective data visualizations. - Completed\n",
    "\n",
    "Present your findings. - Completed\n",
    "\n",
    "Ensure your work is accessible. - Completed"
   ]
  },
  {
   "cell_type": "code",
   "execution_count": null,
   "id": "c4dfcf99",
   "metadata": {},
   "outputs": [],
   "source": []
  }
 ],
 "metadata": {
  "kernelspec": {
   "display_name": "R",
   "language": "R",
   "name": "ir"
  },
  "language_info": {
   "codemirror_mode": "r",
   "file_extension": ".r",
   "mimetype": "text/x-r-source",
   "name": "R",
   "pygments_lexer": "r",
   "version": "4.2.2"
  }
 },
 "nbformat": 4,
 "nbformat_minor": 5
}
